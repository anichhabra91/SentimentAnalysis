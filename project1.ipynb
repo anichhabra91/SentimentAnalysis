{
 "cells": [
  {
   "cell_type": "code",
   "execution_count": 42,
   "metadata": {},
   "outputs": [],
   "source": [
    "import pandas as pd\n",
    "import numpy as np\n",
    "from datetime import datetime\n",
    "from transformers import BertTokenizer, BertForSequenceClassification\n",
    "from transformers import pipeline\n",
    "from tqdm import tqdm\n",
    "from sklearn.decomposition import PCA\n",
    "from sklearn.model_selection import GridSearchCV, train_test_split\n",
    "from sklearn.preprocessing import StandardScaler\n",
    "from sklearn.feature_selection import RFE\n",
    "from sklearn.model_selection import train_test_split\n",
    "from sklearn.ensemble import RandomForestClassifier, GradientBoostingClassifier\n",
    "from sklearn.linear_model import LogisticRegression\n",
    "import ta\n",
    "from sklearn.metrics import accuracy_score, precision_score, recall_score, f1_score\n",
    "import warnings\n",
    "warnings.filterwarnings(action='ignore')"
   ]
  },
  {
   "cell_type": "code",
   "execution_count": null,
   "metadata": {},
   "outputs": [
    {
     "name": "stderr",
     "output_type": "stream",
     "text": [
      "/opt/anaconda3/lib/python3.12/site-packages/torch/utils/_pytree.py:185: FutureWarning: optree is installed but the version is too old to support PyTorch Dynamo in C++ pytree. C++ pytree support is disabled. Please consider upgrading optree using `python3 -m pip install --upgrade 'optree>=0.13.0'`.\n",
      "  warnings.warn(\n"
     ]
    }
   ],
   "source": [
    "df = pd.read_csv(\"cnbc_headlines.csv\")\n",
    "\n",
    "month_mapping = {\n",
    "    \"Jan\": \"January\",\n",
    "    \"Feb\": \"February\",\n",
    "    \"Aug\": \"August\",\n",
    "    \"Sept\": \"September\",\n",
    "    \"Oct\": \"October\",\n",
    "    \"Nov\": \"November\",\n",
    "    \"Dec\": \"December\",\n",
    "    \"Jul\":\"July\",\n",
    "    \"Jun\":\"June\",\n",
    "    \"Mar\":\"March\",\n",
    "    \"Apr\":\"April\"\n",
    "}\n",
    "\n",
    "# Replace abbreviated month names with full names using str.replace and a loop\n",
    "for abbrev, full in month_mapping.items():\n",
    "    df[\"Time\"] = df[\"Time\"].str.replace(abbrev, full)\n",
    "\n",
    "def extract_date(time_str):\n",
    "    if pd.isna(time_str):\n",
    "        return None\n",
    "    try:\n",
    "        # The date starts after \"ET\" or \"ET Fri,\"\n",
    "        parts = time_str.split(\",\")[-1].strip()\n",
    "        date = pd.to_datetime(parts, format='%d %B %Y', errors='coerce')  # Parse the date\n",
    "        return date\n",
    "    except Exception as e:\n",
    "        return None\n",
    "\n",
    "df['Date'] = df['Time'].apply(extract_date)\n",
    "df.dropna(inplace=True)\n",
    "df.reset_index(inplace=True,drop=True)\n",
    "df_cnbc = df.copy()"
   ]
  },
  {
   "cell_type": "code",
   "execution_count": 2,
   "metadata": {},
   "outputs": [
    {
     "name": "stderr",
     "output_type": "stream",
     "text": [
      "/var/folders/pk/90dn4p5556l45snxl195_hlm0000gn/T/ipykernel_38426/3753698641.py:4: UserWarning: Could not infer format, so each element will be parsed individually, falling back to `dateutil`. To ensure parsing is consistent and as-expected, please specify a format.\n",
      "  df[\"Date\"] = pd.to_datetime(df[\"Time\"], errors=\"coerce\")\n"
     ]
    },
    {
     "data": {
      "application/vnd.microsoft.datawrangler.viewer.v0+json": {
       "columns": [
        {
         "name": "index",
         "rawType": "int64",
         "type": "integer"
        },
        {
         "name": "Time",
         "rawType": "object",
         "type": "string"
        },
        {
         "name": "Headlines",
         "rawType": "object",
         "type": "string"
        },
        {
         "name": "Date",
         "rawType": "datetime64[ns]",
         "type": "datetime"
        }
       ],
       "conversionMethod": "pd.DataFrame",
       "ref": "d1ea4ff3-e690-4da9-9502-795a2833c6f8",
       "rows": [
        [
         "0",
         "18-July-20",
         "Johnson is asking Santa for a Christmas recovery",
         "2020-07-18 00:00:00"
        ],
        [
         "1",
         "18-July-20",
         "‘I now fear the worst’: four grim tales of working life upended by Covid-19",
         "2020-07-18 00:00:00"
        ],
        [
         "2",
         "18-July-20",
         "Five key areas Sunak must tackle to serve up economic recovery",
         "2020-07-18 00:00:00"
        ],
        [
         "3",
         "18-July-20",
         "Covid-19 leaves firms ‘fatally ill-prepared’ for no-deal Brexit",
         "2020-07-18 00:00:00"
        ],
        [
         "4",
         "18-July-20",
         "The Week in Patriarchy  \n\n\n  Bacardi's 'lady vodka': the latest in a long line of depressing gendered products",
         "2020-07-18 00:00:00"
        ],
        [
         "5",
         "18-July-20",
         "English councils call for smoking ban outside pubs and cafes",
         "2020-07-18 00:00:00"
        ],
        [
         "6",
         "18-July-20",
         "Can Tesla justify a $300bn valuation?",
         "2020-07-18 00:00:00"
        ],
        [
         "7",
         "18-July-20",
         "Empty city centres: 'I’m not sure it will ever be the same again'",
         "2020-07-18 00:00:00"
        ],
        [
         "8",
         "18-July-20",
         "Democratising finance for all? An investment app for amateurs and a student trader's death",
         "2020-07-18 00:00:00"
        ],
        [
         "9",
         "18-July-20",
         "Homebuyer loses £300,000 to fraudsters – but gets it back after we step in",
         "2020-07-18 00:00:00"
        ],
        [
         "10",
         "18-July-20",
         "St Mawes named UK’s top seaside resort in Which? poll",
         "2020-07-18 00:00:00"
        ],
        [
         "11",
         "18-July-20",
         "Atol protection to be extended to vouchers on Covid-19 cancellations",
         "2020-07-18 00:00:00"
        ],
        [
         "12",
         "18-July-20",
         "Leaseholders billed up to £115,000 each to remove Grenfell-style cladding",
         "2020-07-18 00:00:00"
        ],
        [
         "13",
         "18-July-20",
         "Boohoo calls for licensing scheme to ensure textile factories fit to trade",
         "2020-07-18 00:00:00"
        ],
        [
         "14",
         "18-July-20",
         "All Asda HQ staff told to return to office at least once a week from August",
         "2020-07-18 00:00:00"
        ],
        [
         "15",
         "18-July-20",
         "Ask and Zizzi to close 75 outlets, threatening up to 1,200 jobs",
         "2020-07-18 00:00:00"
        ],
        [
         "16",
         "18-July-20",
         "British Airways retires iconic Boeing 747 fleet – in pictures",
         "2020-07-18 00:00:00"
        ],
        [
         "17",
         "18-July-20",
         "World Bank calls on creditors to cut poorest nations' debt payments",
         "2020-07-18 00:00:00"
        ],
        [
         "18",
         "18-July-20",
         "British Airways retires Boeing 747 fleet as Covid-19 hits travel",
         "2020-07-18 00:00:00"
        ],
        [
         "19",
         "18-July-20",
         "What will changes to England's lockdown rules mean for me?",
         "2020-07-18 00:00:00"
        ],
        [
         "20",
         "17-July-20",
         "In search of a new economics for Covid-19 era",
         "2020-07-17 00:00:00"
        ],
        [
         "21",
         "17-July-20",
         "Business live  Markets hope for progress over EU recovery fund; US consumer confidence drops – as it happened",
         "2020-07-17 00:00:00"
        ],
        [
         "22",
         "17-July-20",
         "I flew the jumbo for 10 years and never got over how big it was, says 747 pilot",
         "2020-07-17 00:00:00"
        ],
        [
         "23",
         "17-July-20",
         "BA begins to carry out its 'fire and rehire' threat to jobs",
         "2020-07-17 00:00:00"
        ],
        [
         "24",
         "17-July-20",
         "Johnson's coronavirus workplace guidance confused, warn unions",
         "2020-07-17 00:00:00"
        ],
        [
         "25",
         "17-July-20",
         "What will be changing in Boris Johnson's 'return to normality'",
         "2020-07-17 00:00:00"
        ],
        [
         "26",
         "17-July-20",
         "Lloyds to increase number of black staff in senior roles",
         "2020-07-17 00:00:00"
        ],
        [
         "27",
         "17-July-20",
         "Silicon Valley has deep pockets for African startups – if you’re not African",
         "2020-07-17 00:00:00"
        ],
        [
         "28",
         "17-July-20",
         "'What’s going to give?': millions fret as Republicans threaten to halt $600 weekly lifesaver",
         "2020-07-17 00:00:00"
        ],
        [
         "29",
         "17-July-20",
         "Future of education  'The MIT of the north': how the government plans to transform ex-mining towns",
         "2020-07-17 00:00:00"
        ],
        [
         "30",
         "17-July-20",
         "Battery firm chooses Welsh site for Britain's first gigafactory",
         "2020-07-17 00:00:00"
        ],
        [
         "31",
         "17-July-20",
         "Netflix shares drop despite positive second-quarter earnings",
         "2020-07-17 00:00:00"
        ],
        [
         "32",
         "17-July-20",
         "Nils Pratley on finance  \n\n\n  Centrica left it far too late to tackle its problems",
         "2020-07-17 00:00:00"
        ],
        [
         "33",
         "17-July-20",
         "Here's another virus terrorising businesses and causing havoc: ransomware",
         "2020-07-17 00:00:00"
        ],
        [
         "34",
         "17-July-20",
         "$11.3bn in IMF Covid-19 money is being used to service debt, says group",
         "2020-07-17 00:00:00"
        ],
        [
         "35",
         "17-July-20",
         "A fifth of Brazilian soy in Europe is result of deforestation",
         "2020-07-17 00:00:00"
        ],
        [
         "36",
         "17-July-20",
         "Public sector pension discrimination could cost UK taxpayer £17bn",
         "2020-07-17 00:00:00"
        ],
        [
         "37",
         "17-July-20",
         "World's largest oil firm agrees to carbon cuts to tackle climate crisis",
         "2020-07-17 00:00:00"
        ],
        [
         "38",
         "17-July-20",
         "Boohoo shares rise 12% after co-founders pump £15m into firm",
         "2020-07-17 00:00:00"
        ],
        [
         "39",
         "17-July-20",
         "UK government orders halt to Randox Covid-19 tests over safety issues",
         "2020-07-17 00:00:00"
        ],
        [
         "40",
         "16-July-20",
         "Canary Wharf traders and landlord bank on return to offices",
         "2020-07-16 00:00:00"
        ],
        [
         "41",
         "16-July-20",
         "Number of UK problem gamblers seeking help soars in lockdown",
         "2020-07-16 00:00:00"
        ],
        [
         "42",
         "16-July-20",
         "British Gas owner 'using Covid-19 as smokescreen to alter staff contracts'",
         "2020-07-16 00:00:00"
        ],
        [
         "43",
         "16-July-20",
         "'It's disrupted our entire lives': UK workers on losing their jobs",
         "2020-07-16 00:00:00"
        ],
        [
         "44",
         "16-July-20",
         "Business live  China shares suffer biggest fall since February; US jobless claims still high - as it happened",
         "2020-07-16 00:00:00"
        ],
        [
         "45",
         "16-July-20",
         "More than 1,600 UK jobs at risk at casino firm Genting",
         "2020-07-16 00:00:00"
        ],
        [
         "46",
         "16-July-20",
         "Royalties investment firm buys catalogue of Lady Gaga collaborator",
         "2020-07-16 00:00:00"
        ],
        [
         "47",
         "16-July-20",
         "Pizza Express to close up to 75 restaurants, risking 1,000 jobs",
         "2020-07-16 00:00:00"
        ],
        [
         "48",
         "16-July-20",
         "Rishi Sunak’s Covid-19 package recycled up to £10bn spending – IFS",
         "2020-07-16 00:00:00"
        ],
        [
         "49",
         "16-July-20",
         "Next in final stages of buying UK arm of Victoria's Secret",
         "2020-07-16 00:00:00"
        ]
       ],
       "shape": {
        "columns": 3,
        "rows": 17760
       }
      },
      "text/html": [
       "<div>\n",
       "<style scoped>\n",
       "    .dataframe tbody tr th:only-of-type {\n",
       "        vertical-align: middle;\n",
       "    }\n",
       "\n",
       "    .dataframe tbody tr th {\n",
       "        vertical-align: top;\n",
       "    }\n",
       "\n",
       "    .dataframe thead th {\n",
       "        text-align: right;\n",
       "    }\n",
       "</style>\n",
       "<table border=\"1\" class=\"dataframe\">\n",
       "  <thead>\n",
       "    <tr style=\"text-align: right;\">\n",
       "      <th></th>\n",
       "      <th>Time</th>\n",
       "      <th>Headlines</th>\n",
       "      <th>Date</th>\n",
       "    </tr>\n",
       "  </thead>\n",
       "  <tbody>\n",
       "    <tr>\n",
       "      <th>0</th>\n",
       "      <td>18-July-20</td>\n",
       "      <td>Johnson is asking Santa for a Christmas recovery</td>\n",
       "      <td>2020-07-18</td>\n",
       "    </tr>\n",
       "    <tr>\n",
       "      <th>1</th>\n",
       "      <td>18-July-20</td>\n",
       "      <td>‘I now fear the worst’: four grim tales of wor...</td>\n",
       "      <td>2020-07-18</td>\n",
       "    </tr>\n",
       "    <tr>\n",
       "      <th>2</th>\n",
       "      <td>18-July-20</td>\n",
       "      <td>Five key areas Sunak must tackle to serve up e...</td>\n",
       "      <td>2020-07-18</td>\n",
       "    </tr>\n",
       "    <tr>\n",
       "      <th>3</th>\n",
       "      <td>18-July-20</td>\n",
       "      <td>Covid-19 leaves firms ‘fatally ill-prepared’ f...</td>\n",
       "      <td>2020-07-18</td>\n",
       "    </tr>\n",
       "    <tr>\n",
       "      <th>4</th>\n",
       "      <td>18-July-20</td>\n",
       "      <td>The Week in Patriarchy  \\n\\n\\n  Bacardi's 'lad...</td>\n",
       "      <td>2020-07-18</td>\n",
       "    </tr>\n",
       "    <tr>\n",
       "      <th>...</th>\n",
       "      <td>...</td>\n",
       "      <td>...</td>\n",
       "      <td>...</td>\n",
       "    </tr>\n",
       "    <tr>\n",
       "      <th>17755</th>\n",
       "      <td>17-December-17</td>\n",
       "      <td>How investing in solar energy can create a bri...</td>\n",
       "      <td>2017-12-17</td>\n",
       "    </tr>\n",
       "    <tr>\n",
       "      <th>17756</th>\n",
       "      <td>17-December-17</td>\n",
       "      <td>Poundland suppliers hit by insurance downgrade</td>\n",
       "      <td>2017-12-17</td>\n",
       "    </tr>\n",
       "    <tr>\n",
       "      <th>17757</th>\n",
       "      <td>17-December-17</td>\n",
       "      <td>Cryptocurrencies: City watchdog to investigate...</td>\n",
       "      <td>2017-12-17</td>\n",
       "    </tr>\n",
       "    <tr>\n",
       "      <th>17758</th>\n",
       "      <td>17-December-17</td>\n",
       "      <td>Unilever sells household name spreads to KKR f...</td>\n",
       "      <td>2017-12-17</td>\n",
       "    </tr>\n",
       "    <tr>\n",
       "      <th>17759</th>\n",
       "      <td>17-December-17</td>\n",
       "      <td>The Guardian view on Ryanair’s model: a union-...</td>\n",
       "      <td>2017-12-17</td>\n",
       "    </tr>\n",
       "  </tbody>\n",
       "</table>\n",
       "<p>17760 rows × 3 columns</p>\n",
       "</div>"
      ],
      "text/plain": [
       "                 Time                                          Headlines  \\\n",
       "0          18-July-20   Johnson is asking Santa for a Christmas recovery   \n",
       "1          18-July-20  ‘I now fear the worst’: four grim tales of wor...   \n",
       "2          18-July-20  Five key areas Sunak must tackle to serve up e...   \n",
       "3          18-July-20  Covid-19 leaves firms ‘fatally ill-prepared’ f...   \n",
       "4          18-July-20  The Week in Patriarchy  \\n\\n\\n  Bacardi's 'lad...   \n",
       "...               ...                                                ...   \n",
       "17755  17-December-17  How investing in solar energy can create a bri...   \n",
       "17756  17-December-17     Poundland suppliers hit by insurance downgrade   \n",
       "17757  17-December-17  Cryptocurrencies: City watchdog to investigate...   \n",
       "17758  17-December-17  Unilever sells household name spreads to KKR f...   \n",
       "17759  17-December-17  The Guardian view on Ryanair’s model: a union-...   \n",
       "\n",
       "            Date  \n",
       "0     2020-07-18  \n",
       "1     2020-07-18  \n",
       "2     2020-07-18  \n",
       "3     2020-07-18  \n",
       "4     2020-07-18  \n",
       "...          ...  \n",
       "17755 2017-12-17  \n",
       "17756 2017-12-17  \n",
       "17757 2017-12-17  \n",
       "17758 2017-12-17  \n",
       "17759 2017-12-17  \n",
       "\n",
       "[17760 rows x 3 columns]"
      ]
     },
     "execution_count": 2,
     "metadata": {},
     "output_type": "execute_result"
    }
   ],
   "source": [
    "df=pd.read_csv(\"guardian_headlines.csv\")\n",
    "for abbrev, full in month_mapping.items():\n",
    "    df[\"Time\"] = df[\"Time\"].str.replace(abbrev, full)\n",
    "df[\"Date\"] = pd.to_datetime(df[\"Time\"], errors=\"coerce\")\n",
    "df = df[df[\"Date\"]<datetime(2024,12,25)]\n",
    "df.dropna(inplace=True)\n",
    "df.reset_index(inplace=True,drop=True)\n",
    "df_guardian = df.copy()\n",
    "df_guardian"
   ]
  },
  {
   "cell_type": "code",
   "execution_count": 3,
   "metadata": {},
   "outputs": [],
   "source": [
    "df = pd.read_csv(\"reuters_headlines.csv\")\n",
    "for abbrev, full in month_mapping.items():\n",
    "    df[\"Time\"] = df[\"Time\"].str.replace(abbrev, full)\n",
    "df[\"Date\"] = pd.to_datetime(df[\"Time\"], errors=\"coerce\")\n",
    "df = df[df[\"Date\"]<datetime(2024,12,25)]\n",
    "df.dropna(inplace=True)\n",
    "df.reset_index(inplace=True,drop=True)\n",
    "df_reuters = df.copy()"
   ]
  },
  {
   "cell_type": "code",
   "execution_count": 4,
   "metadata": {},
   "outputs": [],
   "source": [
    "df_main = pd.concat([df_cnbc, df_reuters, df_guardian], ignore_index=True)\n",
    "df_main = df_main.loc[:,[\"Headlines\",\"Date\"]]\n"
   ]
  },
  {
   "cell_type": "code",
   "execution_count": 5,
   "metadata": {},
   "outputs": [
    {
     "name": "stderr",
     "output_type": "stream",
     "text": [
      "Device set to use mps:0\n",
      "/opt/anaconda3/lib/python3.12/site-packages/torch/utils/_pytree.py:185: FutureWarning: optree is installed but the version is too old to support PyTorch Dynamo in C++ pytree. C++ pytree support is disabled. Please consider upgrading optree using `python3 -m pip install --upgrade 'optree>=0.13.0'`.\n",
      "  warnings.warn(\n",
      "[nltk_data] Downloading package stopwords to\n",
      "[nltk_data]     /Users/abhinavchhabra/nltk_data...\n",
      "[nltk_data]   Package stopwords is already up-to-date!\n",
      "100%|██████████| 50253/50253 [18:44<00:00, 44.67it/s]\n"
     ]
    }
   ],
   "source": [
    "tokenizer = BertTokenizer.from_pretrained(\"yiyanghkust/finbert-tone\")\n",
    "model = BertForSequenceClassification.from_pretrained(\"yiyanghkust/finbert-tone\")\n",
    "finbert = pipeline(\"sentiment-analysis\", model=model, tokenizer=tokenizer)\n",
    "from nltk.corpus import stopwords\n",
    "import nltk\n",
    "\n",
    "# Download NLTK stopwords\n",
    "nltk.download('stopwords')\n",
    "stop_words = set(stopwords.words('english'))\n",
    "\n",
    "# Function to clean text\n",
    "def clean_text(text):\n",
    "    words = str(text).split()\n",
    "    # Remove stopwords and join the first 512 characters\n",
    "    filtered_words = [word for word in words if word.lower() not in stop_words]\n",
    "    return \" \".join(filtered_words)[:512]\n",
    "\n",
    "# Apply cleaning to the content\n",
    "df_main['Headlines'] = df_main['Headlines'].apply(clean_text)\n",
    "\n",
    "tqdm.pandas()\n",
    "df_main['sentiment_finbert'] = df_main['Headlines'].progress_apply(lambda x: finbert(x)[0])"
   ]
  },
  {
   "cell_type": "code",
   "execution_count": null,
   "metadata": {},
   "outputs": [
    {
     "data": {
      "application/vnd.microsoft.datawrangler.viewer.v0+json": {
       "columns": [
        {
         "name": "index",
         "rawType": "int64",
         "type": "integer"
        },
        {
         "name": "Date",
         "rawType": "datetime64[ns]",
         "type": "datetime"
        },
        {
         "name": "sentiment_numeric_finbert",
         "rawType": "int64",
         "type": "integer"
        },
        {
         "name": "sentiment_score_finbert",
         "rawType": "float64",
         "type": "float"
        }
       ],
       "conversionMethod": "pd.DataFrame",
       "ref": "fb6961d5-6a6d-4e6f-8391-809758ee9d97",
       "rows": [
        [
         "0",
         "2020-05-29 00:00:00",
         "0",
         "0.0"
        ],
        [
         "1",
         "2020-05-29 00:00:00",
         "1",
         "0.6631143689155579"
        ],
        [
         "2",
         "2020-05-29 00:00:00",
         "0",
         "0.0"
        ],
        [
         "3",
         "2020-05-29 00:00:00",
         "1",
         "0.9999758005142212"
        ],
        [
         "4",
         "2020-05-29 00:00:00",
         "1",
         "0.9746038317680359"
        ],
        [
         "5",
         "2020-05-29 00:00:00",
         "0",
         "0.0"
        ],
        [
         "6",
         "2020-05-28 00:00:00",
         "0",
         "0.0"
        ],
        [
         "7",
         "2020-05-27 00:00:00",
         "1",
         "0.9999639987945557"
        ],
        [
         "8",
         "2020-05-27 00:00:00",
         "1",
         "0.9998588562011719"
        ],
        [
         "9",
         "2020-05-27 00:00:00",
         "-1",
         "-0.9610324501991272"
        ],
        [
         "10",
         "2020-05-26 00:00:00",
         "0",
         "0.0"
        ],
        [
         "11",
         "2020-05-26 00:00:00",
         "0",
         "0.0"
        ],
        [
         "12",
         "2020-05-26 00:00:00",
         "0",
         "0.0"
        ],
        [
         "13",
         "2020-05-26 00:00:00",
         "1",
         "0.9999896287918091"
        ],
        [
         "14",
         "2020-05-21 00:00:00",
         "1",
         "0.9999977350234985"
        ],
        [
         "15",
         "2020-05-21 00:00:00",
         "0",
         "0.0"
        ],
        [
         "16",
         "2020-05-21 00:00:00",
         "0",
         "0.0"
        ],
        [
         "17",
         "2020-05-21 00:00:00",
         "-1",
         "-0.904620349407196"
        ],
        [
         "18",
         "2020-05-20 00:00:00",
         "1",
         "0.9999995231628418"
        ],
        [
         "19",
         "2020-05-20 00:00:00",
         "0",
         "0.0"
        ],
        [
         "20",
         "2020-05-20 00:00:00",
         "0",
         "0.0"
        ],
        [
         "21",
         "2020-05-20 00:00:00",
         "0",
         "0.0"
        ],
        [
         "22",
         "2020-05-19 00:00:00",
         "0",
         "0.0"
        ],
        [
         "23",
         "2020-05-19 00:00:00",
         "0",
         "0.0"
        ],
        [
         "24",
         "2020-05-19 00:00:00",
         "0",
         "0.0"
        ],
        [
         "25",
         "2020-05-19 00:00:00",
         "1",
         "0.8917226791381836"
        ],
        [
         "26",
         "2020-05-18 00:00:00",
         "1",
         "0.9733396172523499"
        ],
        [
         "27",
         "2020-05-18 00:00:00",
         "1",
         "0.998641312122345"
        ],
        [
         "28",
         "2020-05-16 00:00:00",
         "0",
         "0.0"
        ],
        [
         "29",
         "2020-05-16 00:00:00",
         "1",
         "0.9999996423721313"
        ],
        [
         "30",
         "2020-05-15 00:00:00",
         "-1",
         "-0.9791502356529236"
        ],
        [
         "31",
         "2020-05-15 00:00:00",
         "1",
         "0.9790518283843994"
        ],
        [
         "32",
         "2020-05-14 00:00:00",
         "0",
         "0.0"
        ],
        [
         "33",
         "2020-05-14 00:00:00",
         "0",
         "0.0"
        ],
        [
         "34",
         "2020-05-14 00:00:00",
         "0",
         "0.0"
        ],
        [
         "35",
         "2020-05-14 00:00:00",
         "-1",
         "-0.9957677125930786"
        ],
        [
         "36",
         "2020-05-15 00:00:00",
         "0",
         "0.0"
        ],
        [
         "37",
         "2020-05-14 00:00:00",
         "0",
         "0.0"
        ],
        [
         "38",
         "2020-05-13 00:00:00",
         "0",
         "0.0"
        ],
        [
         "39",
         "2020-05-13 00:00:00",
         "0",
         "0.0"
        ],
        [
         "40",
         "2020-05-13 00:00:00",
         "0",
         "0.0"
        ],
        [
         "41",
         "2020-05-12 00:00:00",
         "0",
         "0.0"
        ],
        [
         "42",
         "2020-05-12 00:00:00",
         "0",
         "0.0"
        ],
        [
         "43",
         "2020-05-12 00:00:00",
         "0",
         "0.0"
        ],
        [
         "44",
         "2020-05-12 00:00:00",
         "0",
         "0.0"
        ],
        [
         "45",
         "2020-05-12 00:00:00",
         "0",
         "0.0"
        ],
        [
         "46",
         "2020-05-12 00:00:00",
         "0",
         "0.0"
        ],
        [
         "47",
         "2020-05-11 00:00:00",
         "0",
         "0.0"
        ],
        [
         "48",
         "2020-05-11 00:00:00",
         "0",
         "0.0"
        ],
        [
         "49",
         "2020-05-11 00:00:00",
         "0",
         "0.0"
        ]
       ],
       "shape": {
        "columns": 3,
        "rows": 50253
       }
      },
      "text/html": [
       "<div>\n",
       "<style scoped>\n",
       "    .dataframe tbody tr th:only-of-type {\n",
       "        vertical-align: middle;\n",
       "    }\n",
       "\n",
       "    .dataframe tbody tr th {\n",
       "        vertical-align: top;\n",
       "    }\n",
       "\n",
       "    .dataframe thead th {\n",
       "        text-align: right;\n",
       "    }\n",
       "</style>\n",
       "<table border=\"1\" class=\"dataframe\">\n",
       "  <thead>\n",
       "    <tr style=\"text-align: right;\">\n",
       "      <th></th>\n",
       "      <th>Date</th>\n",
       "      <th>sentiment_numeric_finbert</th>\n",
       "      <th>sentiment_score_finbert</th>\n",
       "    </tr>\n",
       "  </thead>\n",
       "  <tbody>\n",
       "    <tr>\n",
       "      <th>0</th>\n",
       "      <td>2020-05-29</td>\n",
       "      <td>0</td>\n",
       "      <td>0.000000</td>\n",
       "    </tr>\n",
       "    <tr>\n",
       "      <th>1</th>\n",
       "      <td>2020-05-29</td>\n",
       "      <td>1</td>\n",
       "      <td>0.663114</td>\n",
       "    </tr>\n",
       "    <tr>\n",
       "      <th>2</th>\n",
       "      <td>2020-05-29</td>\n",
       "      <td>0</td>\n",
       "      <td>0.000000</td>\n",
       "    </tr>\n",
       "    <tr>\n",
       "      <th>3</th>\n",
       "      <td>2020-05-29</td>\n",
       "      <td>1</td>\n",
       "      <td>0.999976</td>\n",
       "    </tr>\n",
       "    <tr>\n",
       "      <th>4</th>\n",
       "      <td>2020-05-29</td>\n",
       "      <td>1</td>\n",
       "      <td>0.974604</td>\n",
       "    </tr>\n",
       "    <tr>\n",
       "      <th>...</th>\n",
       "      <td>...</td>\n",
       "      <td>...</td>\n",
       "      <td>...</td>\n",
       "    </tr>\n",
       "    <tr>\n",
       "      <th>50248</th>\n",
       "      <td>2017-12-17</td>\n",
       "      <td>1</td>\n",
       "      <td>1.000000</td>\n",
       "    </tr>\n",
       "    <tr>\n",
       "      <th>50249</th>\n",
       "      <td>2017-12-17</td>\n",
       "      <td>-1</td>\n",
       "      <td>-0.999068</td>\n",
       "    </tr>\n",
       "    <tr>\n",
       "      <th>50250</th>\n",
       "      <td>2017-12-17</td>\n",
       "      <td>0</td>\n",
       "      <td>0.000000</td>\n",
       "    </tr>\n",
       "    <tr>\n",
       "      <th>50251</th>\n",
       "      <td>2017-12-17</td>\n",
       "      <td>0</td>\n",
       "      <td>0.000000</td>\n",
       "    </tr>\n",
       "    <tr>\n",
       "      <th>50252</th>\n",
       "      <td>2017-12-17</td>\n",
       "      <td>0</td>\n",
       "      <td>0.000000</td>\n",
       "    </tr>\n",
       "  </tbody>\n",
       "</table>\n",
       "<p>50253 rows × 3 columns</p>\n",
       "</div>"
      ],
      "text/plain": [
       "            Date  sentiment_numeric_finbert  sentiment_score_finbert\n",
       "0     2020-05-29                          0                 0.000000\n",
       "1     2020-05-29                          1                 0.663114\n",
       "2     2020-05-29                          0                 0.000000\n",
       "3     2020-05-29                          1                 0.999976\n",
       "4     2020-05-29                          1                 0.974604\n",
       "...          ...                        ...                      ...\n",
       "50248 2017-12-17                          1                 1.000000\n",
       "50249 2017-12-17                         -1                -0.999068\n",
       "50250 2017-12-17                          0                 0.000000\n",
       "50251 2017-12-17                          0                 0.000000\n",
       "50252 2017-12-17                          0                 0.000000\n",
       "\n",
       "[50253 rows x 3 columns]"
      ]
     },
     "execution_count": 6,
     "metadata": {},
     "output_type": "execute_result"
    }
   ],
   "source": [
    "df_main['sentiment_label_finbert'] = df_main['sentiment_finbert'].apply(lambda x: x['label'].lower())\n",
    "df_main['sentiment_score_finbert'] = df_main['sentiment_finbert'].apply(lambda x: x['score'])\n",
    "sentiment_mapping = {\"neutral\": 0, \"positive\": 1, \"negative\": -1}\n",
    "df_main['sentiment_numeric_finbert'] = df_main['sentiment_label_finbert'].map(sentiment_mapping)\n",
    "df_main[\"sentiment_score_finbert\"] = df_main[\"sentiment_numeric_finbert\"]*df_main[\"sentiment_score_finbert\"]\n",
    "df_main = df_main.loc[:,[\"Date\",\"sentiment_numeric_finbert\",\"sentiment_score_finbert\"]]\n",
    "df_main"
   ]
  },
  {
   "cell_type": "code",
   "execution_count": 7,
   "metadata": {},
   "outputs": [
    {
     "data": {
      "text/plain": [
       "Timestamp('2020-07-18 00:00:00')"
      ]
     },
     "execution_count": 7,
     "metadata": {},
     "output_type": "execute_result"
    }
   ],
   "source": [
    "df_main[\"Date\"].max()"
   ]
  },
  {
   "cell_type": "code",
   "execution_count": 8,
   "metadata": {},
   "outputs": [
    {
     "name": "stdout",
     "output_type": "stream",
     "text": [
      "YF.download() has changed argument auto_adjust default to True\n"
     ]
    },
    {
     "name": "stderr",
     "output_type": "stream",
     "text": [
      "[*********************100%***********************]  1 of 1 completed\n"
     ]
    },
    {
     "data": {
      "application/vnd.microsoft.datawrangler.viewer.v0+json": {
       "columns": [
        {
         "name": "index",
         "rawType": "int64",
         "type": "integer"
        },
        {
         "name": "('Date', '')",
         "rawType": "datetime64[ns]",
         "type": "datetime"
        },
        {
         "name": "('Close', '^GSPC')",
         "rawType": "float64",
         "type": "float"
        },
        {
         "name": "('High', '^GSPC')",
         "rawType": "float64",
         "type": "float"
        },
        {
         "name": "('Low', '^GSPC')",
         "rawType": "float64",
         "type": "float"
        },
        {
         "name": "('Open', '^GSPC')",
         "rawType": "float64",
         "type": "float"
        },
        {
         "name": "('Volume', '^GSPC')",
         "rawType": "int64",
         "type": "integer"
        }
       ],
       "conversionMethod": "pd.DataFrame",
       "ref": "ae9c3482-510a-4db4-ba0f-48220dd62343",
       "rows": [
        [
         "0",
         "2017-12-18 00:00:00",
         "2690.159912109375",
         "2694.969970703125",
         "2685.919921875",
         "2685.919921875",
         "3727770000"
        ],
        [
         "1",
         "2017-12-19 00:00:00",
         "2681.469970703125",
         "2694.43994140625",
         "2680.739990234375",
         "2692.7099609375",
         "3407680000"
        ],
        [
         "2",
         "2017-12-20 00:00:00",
         "2679.25",
         "2691.010009765625",
         "2676.110107421875",
         "2688.179931640625",
         "3246230000"
        ],
        [
         "3",
         "2017-12-21 00:00:00",
         "2684.570068359375",
         "2692.639892578125",
         "2682.39990234375",
         "2683.02001953125",
         "3293130000"
        ],
        [
         "4",
         "2017-12-22 00:00:00",
         "2683.340087890625",
         "2685.35009765625",
         "2678.1298828125",
         "2684.219970703125",
         "2401030000"
        ],
        [
         "5",
         "2017-12-26 00:00:00",
         "2680.5",
         "2682.739990234375",
         "2677.9599609375",
         "2679.090087890625",
         "1970660000"
        ],
        [
         "6",
         "2017-12-27 00:00:00",
         "2682.6201171875",
         "2685.639892578125",
         "2678.909912109375",
         "2682.10009765625",
         "2202900000"
        ],
        [
         "7",
         "2017-12-28 00:00:00",
         "2687.5400390625",
         "2687.659912109375",
         "2682.68994140625",
         "2686.10009765625",
         "2174890000"
        ],
        [
         "8",
         "2017-12-29 00:00:00",
         "2673.610107421875",
         "2692.1201171875",
         "2673.610107421875",
         "2689.14990234375",
         "2447760000"
        ],
        [
         "9",
         "2018-01-02 00:00:00",
         "2695.81005859375",
         "2695.889892578125",
         "2682.360107421875",
         "2683.72998046875",
         "3397430000"
        ],
        [
         "10",
         "2018-01-03 00:00:00",
         "2713.06005859375",
         "2714.3701171875",
         "2697.77001953125",
         "2697.85009765625",
         "3544030000"
        ],
        [
         "11",
         "2018-01-04 00:00:00",
         "2723.989990234375",
         "2729.2900390625",
         "2719.070068359375",
         "2719.31005859375",
         "3697340000"
        ],
        [
         "12",
         "2018-01-05 00:00:00",
         "2743.14990234375",
         "2743.449951171875",
         "2727.919921875",
         "2731.330078125",
         "3239280000"
        ],
        [
         "13",
         "2018-01-08 00:00:00",
         "2747.7099609375",
         "2748.510009765625",
         "2737.60009765625",
         "2742.669921875",
         "3246160000"
        ],
        [
         "14",
         "2018-01-09 00:00:00",
         "2751.2900390625",
         "2759.139892578125",
         "2747.860107421875",
         "2751.14990234375",
         "3467460000"
        ],
        [
         "15",
         "2018-01-10 00:00:00",
         "2748.22998046875",
         "2750.800048828125",
         "2736.06005859375",
         "2745.550048828125",
         "3579900000"
        ],
        [
         "16",
         "2018-01-11 00:00:00",
         "2767.56005859375",
         "2767.56005859375",
         "2752.780029296875",
         "2752.969970703125",
         "3645690000"
        ],
        [
         "17",
         "2018-01-12 00:00:00",
         "2786.239990234375",
         "2787.85009765625",
         "2769.639892578125",
         "2770.179931640625",
         "3587220000"
        ],
        [
         "18",
         "2018-01-16 00:00:00",
         "2776.419921875",
         "2807.5400390625",
         "2768.639892578125",
         "2798.9599609375",
         "4362880000"
        ],
        [
         "19",
         "2018-01-17 00:00:00",
         "2802.56005859375",
         "2807.0400390625",
         "2778.3798828125",
         "2784.989990234375",
         "3790340000"
        ],
        [
         "20",
         "2018-01-18 00:00:00",
         "2798.030029296875",
         "2805.830078125",
         "2792.56005859375",
         "2802.39990234375",
         "3703300000"
        ],
        [
         "21",
         "2018-01-19 00:00:00",
         "2810.300048828125",
         "2810.330078125",
         "2798.080078125",
         "2802.60009765625",
         "3724230000"
        ],
        [
         "22",
         "2018-01-22 00:00:00",
         "2832.969970703125",
         "2833.030029296875",
         "2808.1201171875",
         "2809.159912109375",
         "3489480000"
        ],
        [
         "23",
         "2018-01-23 00:00:00",
         "2839.1298828125",
         "2842.239990234375",
         "2830.590087890625",
         "2835.050048828125",
         "3541140000"
        ],
        [
         "24",
         "2018-01-24 00:00:00",
         "2837.5400390625",
         "2852.969970703125",
         "2824.81005859375",
         "2845.419921875",
         "4079270000"
        ],
        [
         "25",
         "2018-01-25 00:00:00",
         "2839.25",
         "2848.56005859375",
         "2830.93994140625",
         "2846.239990234375",
         "3873100000"
        ],
        [
         "26",
         "2018-01-26 00:00:00",
         "2872.8701171875",
         "2872.8701171875",
         "2846.179931640625",
         "2847.47998046875",
         "3474680000"
        ],
        [
         "27",
         "2018-01-29 00:00:00",
         "2853.530029296875",
         "2870.6201171875",
         "2851.47998046875",
         "2867.22998046875",
         "3587420000"
        ],
        [
         "28",
         "2018-01-30 00:00:00",
         "2822.429931640625",
         "2837.75",
         "2818.27001953125",
         "2832.739990234375",
         "4012070000"
        ],
        [
         "29",
         "2018-01-31 00:00:00",
         "2823.81005859375",
         "2839.260009765625",
         "2813.0400390625",
         "2832.409912109375",
         "4276270000"
        ],
        [
         "30",
         "2018-02-01 00:00:00",
         "2821.97998046875",
         "2835.9599609375",
         "2812.699951171875",
         "2816.449951171875",
         "3977380000"
        ],
        [
         "31",
         "2018-02-02 00:00:00",
         "2762.1298828125",
         "2808.919921875",
         "2759.969970703125",
         "2808.919921875",
         "4340220000"
        ],
        [
         "32",
         "2018-02-05 00:00:00",
         "2648.93994140625",
         "2763.389892578125",
         "2638.169921875",
         "2741.06005859375",
         "5310840000"
        ],
        [
         "33",
         "2018-02-06 00:00:00",
         "2695.139892578125",
         "2701.0400390625",
         "2593.070068359375",
         "2614.780029296875",
         "5917350000"
        ],
        [
         "34",
         "2018-02-07 00:00:00",
         "2681.659912109375",
         "2727.669921875",
         "2681.330078125",
         "2690.949951171875",
         "4646300000"
        ],
        [
         "35",
         "2018-02-08 00:00:00",
         "2581.0",
         "2685.27001953125",
         "2580.56005859375",
         "2685.010009765625",
         "5333840000"
        ],
        [
         "36",
         "2018-02-09 00:00:00",
         "2619.550048828125",
         "2638.669921875",
         "2532.68994140625",
         "2601.780029296875",
         "5690110000"
        ],
        [
         "37",
         "2018-02-12 00:00:00",
         "2656.0",
         "2672.610107421875",
         "2622.449951171875",
         "2636.75",
         "4069220000"
        ],
        [
         "38",
         "2018-02-13 00:00:00",
         "2662.93994140625",
         "2668.840087890625",
         "2637.080078125",
         "2646.27001953125",
         "3503540000"
        ],
        [
         "39",
         "2018-02-14 00:00:00",
         "2698.6298828125",
         "2702.10009765625",
         "2648.8701171875",
         "2651.2099609375",
         "4011940000"
        ],
        [
         "40",
         "2018-02-15 00:00:00",
         "2731.199951171875",
         "2731.510009765625",
         "2689.820068359375",
         "2713.4599609375",
         "3696140000"
        ],
        [
         "41",
         "2018-02-16 00:00:00",
         "2732.219970703125",
         "2754.419921875",
         "2725.110107421875",
         "2727.139892578125",
         "3646920000"
        ],
        [
         "42",
         "2018-02-20 00:00:00",
         "2716.260009765625",
         "2737.60009765625",
         "2706.760009765625",
         "2722.989990234375",
         "3646920000"
        ],
        [
         "43",
         "2018-02-21 00:00:00",
         "2701.330078125",
         "2747.75",
         "2701.2900390625",
         "2720.530029296875",
         "3789040000"
        ],
        [
         "44",
         "2018-02-22 00:00:00",
         "2703.9599609375",
         "2731.260009765625",
         "2697.77001953125",
         "2710.419921875",
         "3720620000"
        ],
        [
         "45",
         "2018-02-23 00:00:00",
         "2747.300048828125",
         "2747.760009765625",
         "2713.739990234375",
         "2715.800048828125",
         "3200360000"
        ],
        [
         "46",
         "2018-02-26 00:00:00",
         "2779.60009765625",
         "2780.639892578125",
         "2753.780029296875",
         "2757.3701171875",
         "3436590000"
        ],
        [
         "47",
         "2018-02-27 00:00:00",
         "2744.280029296875",
         "2789.14990234375",
         "2744.219970703125",
         "2780.449951171875",
         "3752070000"
        ],
        [
         "48",
         "2018-02-28 00:00:00",
         "2713.830078125",
         "2761.52001953125",
         "2713.5400390625",
         "2753.780029296875",
         "4244570000"
        ],
        [
         "49",
         "2018-03-01 00:00:00",
         "2677.669921875",
         "2730.889892578125",
         "2659.64990234375",
         "2715.219970703125",
         "4514490000"
        ]
       ],
       "shape": {
        "columns": 6,
        "rows": 649
       }
      },
      "text/html": [
       "<div>\n",
       "<style scoped>\n",
       "    .dataframe tbody tr th:only-of-type {\n",
       "        vertical-align: middle;\n",
       "    }\n",
       "\n",
       "    .dataframe tbody tr th {\n",
       "        vertical-align: top;\n",
       "    }\n",
       "\n",
       "    .dataframe thead tr th {\n",
       "        text-align: left;\n",
       "    }\n",
       "</style>\n",
       "<table border=\"1\" class=\"dataframe\">\n",
       "  <thead>\n",
       "    <tr>\n",
       "      <th>Price</th>\n",
       "      <th>Date</th>\n",
       "      <th>Close</th>\n",
       "      <th>High</th>\n",
       "      <th>Low</th>\n",
       "      <th>Open</th>\n",
       "      <th>Volume</th>\n",
       "    </tr>\n",
       "    <tr>\n",
       "      <th>Ticker</th>\n",
       "      <th></th>\n",
       "      <th>^GSPC</th>\n",
       "      <th>^GSPC</th>\n",
       "      <th>^GSPC</th>\n",
       "      <th>^GSPC</th>\n",
       "      <th>^GSPC</th>\n",
       "    </tr>\n",
       "  </thead>\n",
       "  <tbody>\n",
       "    <tr>\n",
       "      <th>0</th>\n",
       "      <td>2017-12-18</td>\n",
       "      <td>2690.159912</td>\n",
       "      <td>2694.969971</td>\n",
       "      <td>2685.919922</td>\n",
       "      <td>2685.919922</td>\n",
       "      <td>3727770000</td>\n",
       "    </tr>\n",
       "    <tr>\n",
       "      <th>1</th>\n",
       "      <td>2017-12-19</td>\n",
       "      <td>2681.469971</td>\n",
       "      <td>2694.439941</td>\n",
       "      <td>2680.739990</td>\n",
       "      <td>2692.709961</td>\n",
       "      <td>3407680000</td>\n",
       "    </tr>\n",
       "    <tr>\n",
       "      <th>2</th>\n",
       "      <td>2017-12-20</td>\n",
       "      <td>2679.250000</td>\n",
       "      <td>2691.010010</td>\n",
       "      <td>2676.110107</td>\n",
       "      <td>2688.179932</td>\n",
       "      <td>3246230000</td>\n",
       "    </tr>\n",
       "    <tr>\n",
       "      <th>3</th>\n",
       "      <td>2017-12-21</td>\n",
       "      <td>2684.570068</td>\n",
       "      <td>2692.639893</td>\n",
       "      <td>2682.399902</td>\n",
       "      <td>2683.020020</td>\n",
       "      <td>3293130000</td>\n",
       "    </tr>\n",
       "    <tr>\n",
       "      <th>4</th>\n",
       "      <td>2017-12-22</td>\n",
       "      <td>2683.340088</td>\n",
       "      <td>2685.350098</td>\n",
       "      <td>2678.129883</td>\n",
       "      <td>2684.219971</td>\n",
       "      <td>2401030000</td>\n",
       "    </tr>\n",
       "    <tr>\n",
       "      <th>...</th>\n",
       "      <td>...</td>\n",
       "      <td>...</td>\n",
       "      <td>...</td>\n",
       "      <td>...</td>\n",
       "      <td>...</td>\n",
       "      <td>...</td>\n",
       "    </tr>\n",
       "    <tr>\n",
       "      <th>644</th>\n",
       "      <td>2020-07-13</td>\n",
       "      <td>3155.219971</td>\n",
       "      <td>3235.320068</td>\n",
       "      <td>3149.429932</td>\n",
       "      <td>3205.080078</td>\n",
       "      <td>4902440000</td>\n",
       "    </tr>\n",
       "    <tr>\n",
       "      <th>645</th>\n",
       "      <td>2020-07-14</td>\n",
       "      <td>3197.520020</td>\n",
       "      <td>3200.949951</td>\n",
       "      <td>3127.659912</td>\n",
       "      <td>3141.110107</td>\n",
       "      <td>4507140000</td>\n",
       "    </tr>\n",
       "    <tr>\n",
       "      <th>646</th>\n",
       "      <td>2020-07-15</td>\n",
       "      <td>3226.560059</td>\n",
       "      <td>3238.280029</td>\n",
       "      <td>3200.760010</td>\n",
       "      <td>3225.979980</td>\n",
       "      <td>4686830000</td>\n",
       "    </tr>\n",
       "    <tr>\n",
       "      <th>647</th>\n",
       "      <td>2020-07-16</td>\n",
       "      <td>3215.570068</td>\n",
       "      <td>3220.389893</td>\n",
       "      <td>3198.590088</td>\n",
       "      <td>3208.360107</td>\n",
       "      <td>3972860000</td>\n",
       "    </tr>\n",
       "    <tr>\n",
       "      <th>648</th>\n",
       "      <td>2020-07-17</td>\n",
       "      <td>3224.729980</td>\n",
       "      <td>3233.520020</td>\n",
       "      <td>3205.649902</td>\n",
       "      <td>3224.209961</td>\n",
       "      <td>4012850000</td>\n",
       "    </tr>\n",
       "  </tbody>\n",
       "</table>\n",
       "<p>649 rows × 6 columns</p>\n",
       "</div>"
      ],
      "text/plain": [
       "Price        Date        Close         High          Low         Open  \\\n",
       "Ticker                   ^GSPC        ^GSPC        ^GSPC        ^GSPC   \n",
       "0      2017-12-18  2690.159912  2694.969971  2685.919922  2685.919922   \n",
       "1      2017-12-19  2681.469971  2694.439941  2680.739990  2692.709961   \n",
       "2      2017-12-20  2679.250000  2691.010010  2676.110107  2688.179932   \n",
       "3      2017-12-21  2684.570068  2692.639893  2682.399902  2683.020020   \n",
       "4      2017-12-22  2683.340088  2685.350098  2678.129883  2684.219971   \n",
       "..            ...          ...          ...          ...          ...   \n",
       "644    2020-07-13  3155.219971  3235.320068  3149.429932  3205.080078   \n",
       "645    2020-07-14  3197.520020  3200.949951  3127.659912  3141.110107   \n",
       "646    2020-07-15  3226.560059  3238.280029  3200.760010  3225.979980   \n",
       "647    2020-07-16  3215.570068  3220.389893  3198.590088  3208.360107   \n",
       "648    2020-07-17  3224.729980  3233.520020  3205.649902  3224.209961   \n",
       "\n",
       "Price       Volume  \n",
       "Ticker       ^GSPC  \n",
       "0       3727770000  \n",
       "1       3407680000  \n",
       "2       3246230000  \n",
       "3       3293130000  \n",
       "4       2401030000  \n",
       "..             ...  \n",
       "644     4902440000  \n",
       "645     4507140000  \n",
       "646     4686830000  \n",
       "647     3972860000  \n",
       "648     4012850000  \n",
       "\n",
       "[649 rows x 6 columns]"
      ]
     },
     "execution_count": 8,
     "metadata": {},
     "output_type": "execute_result"
    }
   ],
   "source": [
    "import yfinance as yf\n",
    "ticker = \"^GSPC\" \n",
    "start_date = \"2017-12-17\"\n",
    "end_date = \"2020-07-18\"\n",
    "sp500_data = yf.download(ticker, start=start_date, end=end_date)\n",
    "sp500_data.reset_index(inplace=True)\n",
    "sp500_data"
   ]
  },
  {
   "cell_type": "code",
   "execution_count": 14,
   "metadata": {},
   "outputs": [],
   "source": [
    "sp500_data.columns = ['Date','Close',(  'High', '^GSPC'),\n",
    "            (   'Low', '^GSPC'),\n",
    "            (  'Open', '^GSPC'),\n",
    "            ('Volume', '^GSPC')]"
   ]
  },
  {
   "cell_type": "code",
   "execution_count": 16,
   "metadata": {},
   "outputs": [
    {
     "data": {
      "application/vnd.microsoft.datawrangler.viewer.v0+json": {
       "columns": [
        {
         "name": "index",
         "rawType": "int64",
         "type": "integer"
        },
        {
         "name": "Date",
         "rawType": "datetime64[ns]",
         "type": "datetime"
        },
        {
         "name": "sentiment_numeric_finbert",
         "rawType": "int64",
         "type": "integer"
        },
        {
         "name": "sentiment_score_finbert",
         "rawType": "float64",
         "type": "float"
        },
        {
         "name": "Close",
         "rawType": "float64",
         "type": "float"
        }
       ],
       "conversionMethod": "pd.DataFrame",
       "ref": "39114122-4a62-4738-b197-f6823b552e72",
       "rows": [
        [
         "0",
         "2020-05-29 00:00:00",
         "0",
         "0.0",
         "3044.31005859375"
        ],
        [
         "1",
         "2020-05-29 00:00:00",
         "1",
         "0.6631143689155579",
         "3044.31005859375"
        ],
        [
         "2",
         "2020-05-29 00:00:00",
         "0",
         "0.0",
         "3044.31005859375"
        ],
        [
         "3",
         "2020-05-29 00:00:00",
         "1",
         "0.9999758005142212",
         "3044.31005859375"
        ],
        [
         "4",
         "2020-05-29 00:00:00",
         "1",
         "0.9746038317680359",
         "3044.31005859375"
        ],
        [
         "5",
         "2020-05-29 00:00:00",
         "0",
         "0.0",
         "3044.31005859375"
        ],
        [
         "6",
         "2020-05-28 00:00:00",
         "0",
         "0.0",
         "3029.72998046875"
        ],
        [
         "7",
         "2020-05-27 00:00:00",
         "1",
         "0.9999639987945557",
         "3036.1298828125"
        ],
        [
         "8",
         "2020-05-27 00:00:00",
         "1",
         "0.9998588562011719",
         "3036.1298828125"
        ],
        [
         "9",
         "2020-05-27 00:00:00",
         "-1",
         "-0.9610324501991272",
         "3036.1298828125"
        ],
        [
         "10",
         "2020-05-26 00:00:00",
         "0",
         "0.0",
         "2991.77001953125"
        ],
        [
         "11",
         "2020-05-26 00:00:00",
         "0",
         "0.0",
         "2991.77001953125"
        ],
        [
         "12",
         "2020-05-26 00:00:00",
         "0",
         "0.0",
         "2991.77001953125"
        ],
        [
         "13",
         "2020-05-26 00:00:00",
         "1",
         "0.9999896287918091",
         "2991.77001953125"
        ],
        [
         "14",
         "2020-05-21 00:00:00",
         "1",
         "0.9999977350234985",
         "2948.510009765625"
        ],
        [
         "15",
         "2020-05-21 00:00:00",
         "0",
         "0.0",
         "2948.510009765625"
        ],
        [
         "16",
         "2020-05-21 00:00:00",
         "0",
         "0.0",
         "2948.510009765625"
        ],
        [
         "17",
         "2020-05-21 00:00:00",
         "-1",
         "-0.904620349407196",
         "2948.510009765625"
        ],
        [
         "18",
         "2020-05-20 00:00:00",
         "1",
         "0.9999995231628418",
         "2971.610107421875"
        ],
        [
         "19",
         "2020-05-20 00:00:00",
         "0",
         "0.0",
         "2971.610107421875"
        ],
        [
         "20",
         "2020-05-20 00:00:00",
         "0",
         "0.0",
         "2971.610107421875"
        ],
        [
         "21",
         "2020-05-20 00:00:00",
         "0",
         "0.0",
         "2971.610107421875"
        ],
        [
         "22",
         "2020-05-19 00:00:00",
         "0",
         "0.0",
         "2922.93994140625"
        ],
        [
         "23",
         "2020-05-19 00:00:00",
         "0",
         "0.0",
         "2922.93994140625"
        ],
        [
         "24",
         "2020-05-19 00:00:00",
         "0",
         "0.0",
         "2922.93994140625"
        ],
        [
         "25",
         "2020-05-19 00:00:00",
         "1",
         "0.8917226791381836",
         "2922.93994140625"
        ],
        [
         "26",
         "2020-05-18 00:00:00",
         "1",
         "0.9733396172523499",
         "2953.909912109375"
        ],
        [
         "27",
         "2020-05-18 00:00:00",
         "1",
         "0.998641312122345",
         "2953.909912109375"
        ],
        [
         "28",
         "2020-05-18 00:00:00",
         "0",
         "0.0",
         "2953.909912109375"
        ],
        [
         "29",
         "2020-05-18 00:00:00",
         "1",
         "0.9999996423721313",
         "2953.909912109375"
        ],
        [
         "30",
         "2020-05-15 00:00:00",
         "-1",
         "-0.9791502356529236",
         "2863.699951171875"
        ],
        [
         "31",
         "2020-05-15 00:00:00",
         "1",
         "0.9790518283843994",
         "2863.699951171875"
        ],
        [
         "32",
         "2020-05-14 00:00:00",
         "0",
         "0.0",
         "2852.5"
        ],
        [
         "33",
         "2020-05-14 00:00:00",
         "0",
         "0.0",
         "2852.5"
        ],
        [
         "34",
         "2020-05-14 00:00:00",
         "0",
         "0.0",
         "2852.5"
        ],
        [
         "35",
         "2020-05-14 00:00:00",
         "-1",
         "-0.9957677125930786",
         "2852.5"
        ],
        [
         "36",
         "2020-05-15 00:00:00",
         "0",
         "0.0",
         "2863.699951171875"
        ],
        [
         "37",
         "2020-05-14 00:00:00",
         "0",
         "0.0",
         "2852.5"
        ],
        [
         "38",
         "2020-05-13 00:00:00",
         "0",
         "0.0",
         "2820.0"
        ],
        [
         "39",
         "2020-05-13 00:00:00",
         "0",
         "0.0",
         "2820.0"
        ],
        [
         "40",
         "2020-05-13 00:00:00",
         "0",
         "0.0",
         "2820.0"
        ],
        [
         "41",
         "2020-05-12 00:00:00",
         "0",
         "0.0",
         "2870.1201171875"
        ],
        [
         "42",
         "2020-05-12 00:00:00",
         "0",
         "0.0",
         "2870.1201171875"
        ],
        [
         "43",
         "2020-05-12 00:00:00",
         "0",
         "0.0",
         "2870.1201171875"
        ],
        [
         "44",
         "2020-05-12 00:00:00",
         "0",
         "0.0",
         "2870.1201171875"
        ],
        [
         "45",
         "2020-05-12 00:00:00",
         "0",
         "0.0",
         "2870.1201171875"
        ],
        [
         "46",
         "2020-05-12 00:00:00",
         "0",
         "0.0",
         "2870.1201171875"
        ],
        [
         "47",
         "2020-05-11 00:00:00",
         "0",
         "0.0",
         "2930.18994140625"
        ],
        [
         "48",
         "2020-05-11 00:00:00",
         "0",
         "0.0",
         "2930.18994140625"
        ],
        [
         "49",
         "2020-05-11 00:00:00",
         "0",
         "0.0",
         "2930.18994140625"
        ]
       ],
       "shape": {
        "columns": 4,
        "rows": 50229
       }
      },
      "text/html": [
       "<div>\n",
       "<style scoped>\n",
       "    .dataframe tbody tr th:only-of-type {\n",
       "        vertical-align: middle;\n",
       "    }\n",
       "\n",
       "    .dataframe tbody tr th {\n",
       "        vertical-align: top;\n",
       "    }\n",
       "\n",
       "    .dataframe thead th {\n",
       "        text-align: right;\n",
       "    }\n",
       "</style>\n",
       "<table border=\"1\" class=\"dataframe\">\n",
       "  <thead>\n",
       "    <tr style=\"text-align: right;\">\n",
       "      <th></th>\n",
       "      <th>Date</th>\n",
       "      <th>sentiment_numeric_finbert</th>\n",
       "      <th>sentiment_score_finbert</th>\n",
       "      <th>Close</th>\n",
       "    </tr>\n",
       "  </thead>\n",
       "  <tbody>\n",
       "    <tr>\n",
       "      <th>0</th>\n",
       "      <td>2020-05-29</td>\n",
       "      <td>0</td>\n",
       "      <td>0.000000</td>\n",
       "      <td>3044.310059</td>\n",
       "    </tr>\n",
       "    <tr>\n",
       "      <th>1</th>\n",
       "      <td>2020-05-29</td>\n",
       "      <td>1</td>\n",
       "      <td>0.663114</td>\n",
       "      <td>3044.310059</td>\n",
       "    </tr>\n",
       "    <tr>\n",
       "      <th>2</th>\n",
       "      <td>2020-05-29</td>\n",
       "      <td>0</td>\n",
       "      <td>0.000000</td>\n",
       "      <td>3044.310059</td>\n",
       "    </tr>\n",
       "    <tr>\n",
       "      <th>3</th>\n",
       "      <td>2020-05-29</td>\n",
       "      <td>1</td>\n",
       "      <td>0.999976</td>\n",
       "      <td>3044.310059</td>\n",
       "    </tr>\n",
       "    <tr>\n",
       "      <th>4</th>\n",
       "      <td>2020-05-29</td>\n",
       "      <td>1</td>\n",
       "      <td>0.974604</td>\n",
       "      <td>3044.310059</td>\n",
       "    </tr>\n",
       "    <tr>\n",
       "      <th>...</th>\n",
       "      <td>...</td>\n",
       "      <td>...</td>\n",
       "      <td>...</td>\n",
       "      <td>...</td>\n",
       "    </tr>\n",
       "    <tr>\n",
       "      <th>50224</th>\n",
       "      <td>2017-12-18</td>\n",
       "      <td>1</td>\n",
       "      <td>1.000000</td>\n",
       "      <td>2690.159912</td>\n",
       "    </tr>\n",
       "    <tr>\n",
       "      <th>50225</th>\n",
       "      <td>2017-12-18</td>\n",
       "      <td>-1</td>\n",
       "      <td>-0.999068</td>\n",
       "      <td>2690.159912</td>\n",
       "    </tr>\n",
       "    <tr>\n",
       "      <th>50226</th>\n",
       "      <td>2017-12-18</td>\n",
       "      <td>0</td>\n",
       "      <td>0.000000</td>\n",
       "      <td>2690.159912</td>\n",
       "    </tr>\n",
       "    <tr>\n",
       "      <th>50227</th>\n",
       "      <td>2017-12-18</td>\n",
       "      <td>0</td>\n",
       "      <td>0.000000</td>\n",
       "      <td>2690.159912</td>\n",
       "    </tr>\n",
       "    <tr>\n",
       "      <th>50228</th>\n",
       "      <td>2017-12-18</td>\n",
       "      <td>0</td>\n",
       "      <td>0.000000</td>\n",
       "      <td>2690.159912</td>\n",
       "    </tr>\n",
       "  </tbody>\n",
       "</table>\n",
       "<p>50229 rows × 4 columns</p>\n",
       "</div>"
      ],
      "text/plain": [
       "            Date  sentiment_numeric_finbert  sentiment_score_finbert  \\\n",
       "0     2020-05-29                          0                 0.000000   \n",
       "1     2020-05-29                          1                 0.663114   \n",
       "2     2020-05-29                          0                 0.000000   \n",
       "3     2020-05-29                          1                 0.999976   \n",
       "4     2020-05-29                          1                 0.974604   \n",
       "...          ...                        ...                      ...   \n",
       "50224 2017-12-18                          1                 1.000000   \n",
       "50225 2017-12-18                         -1                -0.999068   \n",
       "50226 2017-12-18                          0                 0.000000   \n",
       "50227 2017-12-18                          0                 0.000000   \n",
       "50228 2017-12-18                          0                 0.000000   \n",
       "\n",
       "             Close  \n",
       "0      3044.310059  \n",
       "1      3044.310059  \n",
       "2      3044.310059  \n",
       "3      3044.310059  \n",
       "4      3044.310059  \n",
       "...            ...  \n",
       "50224  2690.159912  \n",
       "50225  2690.159912  \n",
       "50226  2690.159912  \n",
       "50227  2690.159912  \n",
       "50228  2690.159912  \n",
       "\n",
       "[50229 rows x 4 columns]"
      ]
     },
     "execution_count": 16,
     "metadata": {},
     "output_type": "execute_result"
    }
   ],
   "source": [
    "merged_df = pd.merge(df_main,sp500_data,on=\"Date\",how=\"left\")\n",
    "for index, row in merged_df.iterrows():\n",
    "    if pd.isna(row['Close']):\n",
    "        next_date = sp500_data[sp500_data['Date'] > row['Date']]['Date'].min()\n",
    "        merged_df.loc[index, 'Date'] = next_date\n",
    "\n",
    "final_df = pd.merge(merged_df[[\"Date\",\"sentiment_numeric_finbert\",\"sentiment_score_finbert\"]], sp500_data, on='Date', how='left')\n",
    "final_df.dropna(inplace=True)\n",
    "final_df.reset_index(inplace=True,drop=True)\n",
    "final_df = final_df.loc[:,[\"Date\",\"sentiment_numeric_finbert\",\"sentiment_score_finbert\",\"Close\"]]\n",
    "final_df"
   ]
  },
  {
   "cell_type": "code",
   "execution_count": 17,
   "metadata": {},
   "outputs": [
    {
     "data": {
      "application/vnd.microsoft.datawrangler.viewer.v0+json": {
       "columns": [
        {
         "name": "index",
         "rawType": "int64",
         "type": "integer"
        },
        {
         "name": "Date",
         "rawType": "datetime64[ns]",
         "type": "datetime"
        },
        {
         "name": "sentiment_numeric_finbert",
         "rawType": "float64",
         "type": "float"
        },
        {
         "name": "sentiment_score_finbert",
         "rawType": "float64",
         "type": "float"
        },
        {
         "name": "Close",
         "rawType": "float64",
         "type": "float"
        },
        {
         "name": "Count_-1",
         "rawType": "int64",
         "type": "integer"
        },
        {
         "name": "Count_0",
         "rawType": "int64",
         "type": "integer"
        },
        {
         "name": "Count_1",
         "rawType": "int64",
         "type": "integer"
        },
        {
         "name": "Count_-1 Ratio",
         "rawType": "float64",
         "type": "float"
        },
        {
         "name": "Count_0 Ratio",
         "rawType": "float64",
         "type": "float"
        },
        {
         "name": "Count_1 Ratio",
         "rawType": "float64",
         "type": "float"
        }
       ],
       "conversionMethod": "pd.DataFrame",
       "ref": "9aef8177-8b2f-4628-8e1b-0eb895dcf24c",
       "rows": [
        [
         "0",
         "2017-12-18 00:00:00",
         "-0.13333333333333333",
         "-0.1236202488342921",
         "2690.159912109375",
         "16",
         "36",
         "8",
         "0.26666666666666666",
         "0.6",
         "0.13333333333333333"
        ],
        [
         "1",
         "2017-12-19 00:00:00",
         "-0.15",
         "-0.14154596030712127",
         "2681.469970703125",
         "4",
         "15",
         "1",
         "0.2",
         "0.75",
         "0.05"
        ],
        [
         "2",
         "2017-12-20 00:00:00",
         "-0.1",
         "-0.09116429388523102",
         "2679.25",
         "3",
         "16",
         "1",
         "0.15",
         "0.8",
         "0.05"
        ],
        [
         "3",
         "2017-12-21 00:00:00",
         "-0.05",
         "-0.04502745270729065",
         "2684.570068359375",
         "3",
         "15",
         "2",
         "0.15",
         "0.75",
         "0.1"
        ],
        [
         "4",
         "2017-12-22 00:00:00",
         "-0.08695652173913043",
         "-0.059859120327493416",
         "2683.340087890625",
         "4",
         "17",
         "2",
         "0.17391304347826086",
         "0.7391304347826086",
         "0.08695652173913043"
        ],
        [
         "5",
         "2017-12-26 00:00:00",
         "-0.19047619047619047",
         "-0.19158482835406349",
         "2680.5",
         "6",
         "13",
         "2",
         "0.2857142857142857",
         "0.6190476190476191",
         "0.09523809523809523"
        ],
        [
         "6",
         "2017-12-27 00:00:00",
         "0.09523809523809523",
         "0.0984369431223188",
         "2682.6201171875",
         "2",
         "15",
         "4",
         "0.09523809523809523",
         "0.7142857142857143",
         "0.19047619047619047"
        ],
        [
         "7",
         "2017-12-28 00:00:00",
         "0.0",
         "-0.014722761511802674",
         "2687.5400390625",
         "4",
         "12",
         "4",
         "0.2",
         "0.6",
         "0.2"
        ],
        [
         "8",
         "2018-01-02 00:00:00",
         "0.05970149253731343",
         "0.07039985549983693",
         "2695.81005859375",
         "15",
         "33",
         "19",
         "0.22388059701492538",
         "0.4925373134328358",
         "0.2835820895522388"
        ],
        [
         "9",
         "2018-01-03 00:00:00",
         "-0.038461538461538464",
         "-0.015352088671464186",
         "2713.06005859375",
         "5",
         "17",
         "4",
         "0.19230769230769232",
         "0.6538461538461539",
         "0.15384615384615385"
        ],
        [
         "10",
         "2018-01-04 00:00:00",
         "-0.1111111111111111",
         "-0.10738496427182798",
         "2723.989990234375",
         "8",
         "14",
         "5",
         "0.2962962962962963",
         "0.5185185185185185",
         "0.18518518518518517"
        ],
        [
         "11",
         "2018-01-05 00:00:00",
         "-0.09375",
         "-0.07977861352264881",
         "2743.14990234375",
         "7",
         "21",
         "4",
         "0.21875",
         "0.65625",
         "0.125"
        ],
        [
         "12",
         "2018-01-08 00:00:00",
         "-0.021739130434782608",
         "0.0003023497436357581",
         "2747.7099609375",
         "9",
         "29",
         "8",
         "0.1956521739130435",
         "0.6304347826086957",
         "0.17391304347826086"
        ],
        [
         "13",
         "2018-01-09 00:00:00",
         "-0.2",
         "-0.1671543550491333",
         "2751.2900390625",
         "6",
         "18",
         "1",
         "0.24",
         "0.72",
         "0.04"
        ],
        [
         "14",
         "2018-01-10 00:00:00",
         "-0.08695652173913043",
         "-0.09609446318253227",
         "2748.22998046875",
         "10",
         "30",
         "6",
         "0.21739130434782608",
         "0.6521739130434783",
         "0.13043478260869565"
        ],
        [
         "15",
         "2018-01-11 00:00:00",
         "0.0",
         "0.015272829532623291",
         "2767.56005859375",
         "4",
         "17",
         "4",
         "0.16",
         "0.68",
         "0.16"
        ],
        [
         "16",
         "2018-01-12 00:00:00",
         "0.038461538461538464",
         "0.05122665487802946",
         "2786.239990234375",
         "5",
         "15",
         "6",
         "0.19230769230769232",
         "0.5769230769230769",
         "0.23076923076923078"
        ],
        [
         "17",
         "2018-01-16 00:00:00",
         "-0.18823529411764706",
         "-0.18505192083470962",
         "2776.419921875",
         "25",
         "51",
         "9",
         "0.29411764705882354",
         "0.6",
         "0.10588235294117647"
        ],
        [
         "18",
         "2018-01-17 00:00:00",
         "-0.06666666666666667",
         "-0.06797216203477648",
         "2802.56005859375",
         "8",
         "32",
         "5",
         "0.17777777777777778",
         "0.7111111111111111",
         "0.1111111111111111"
        ],
        [
         "19",
         "2018-01-18 00:00:00",
         "-0.11627906976744186",
         "-0.11310027782307115",
         "2798.030029296875",
         "10",
         "28",
         "5",
         "0.23255813953488372",
         "0.6511627906976745",
         "0.11627906976744186"
        ],
        [
         "20",
         "2018-01-19 00:00:00",
         "-0.038461538461538464",
         "-0.027826240429511435",
         "2810.300048828125",
         "6",
         "15",
         "5",
         "0.23076923076923078",
         "0.5769230769230769",
         "0.19230769230769232"
        ],
        [
         "21",
         "2018-01-22 00:00:00",
         "-0.10416666666666667",
         "-0.09757716581225395",
         "2832.969970703125",
         "10",
         "33",
         "5",
         "0.20833333333333334",
         "0.6875",
         "0.10416666666666667"
        ],
        [
         "22",
         "2018-01-23 00:00:00",
         "0.0",
         "0.015460355126339457",
         "2839.1298828125",
         "8",
         "30",
         "8",
         "0.17391304347826086",
         "0.6521739130434783",
         "0.17391304347826086"
        ],
        [
         "23",
         "2018-01-24 00:00:00",
         "-0.24",
         "-0.21068358182907104",
         "2837.5400390625",
         "7",
         "17",
         "1",
         "0.28",
         "0.68",
         "0.04"
        ],
        [
         "24",
         "2018-01-25 00:00:00",
         "0.05",
         "0.04966026842594147",
         "2839.25",
         "1",
         "17",
         "2",
         "0.05",
         "0.85",
         "0.1"
        ],
        [
         "25",
         "2018-01-26 00:00:00",
         "-0.06818181818181818",
         "-0.07147028906778856",
         "2872.8701171875",
         "9",
         "29",
         "6",
         "0.20454545454545456",
         "0.6590909090909091",
         "0.13636363636363635"
        ],
        [
         "26",
         "2018-01-29 00:00:00",
         "-0.02040816326530612",
         "-0.019911116483260174",
         "2853.530029296875",
         "7",
         "36",
         "6",
         "0.14285714285714285",
         "0.7346938775510204",
         "0.12244897959183673"
        ],
        [
         "27",
         "2018-01-30 00:00:00",
         "-0.13333333333333333",
         "-0.1212965640756819",
         "2822.429931640625",
         "11",
         "29",
         "5",
         "0.24444444444444444",
         "0.6444444444444445",
         "0.1111111111111111"
        ],
        [
         "28",
         "2018-01-31 00:00:00",
         "-0.041666666666666664",
         "-0.04204972336689631",
         "2823.81005859375",
         "4",
         "17",
         "3",
         "0.16666666666666666",
         "0.7083333333333334",
         "0.125"
        ],
        [
         "29",
         "2018-02-01 00:00:00",
         "0.0",
         "0.01057632591413415",
         "2821.97998046875",
         "8",
         "30",
         "8",
         "0.17391304347826086",
         "0.6521739130434783",
         "0.17391304347826086"
        ],
        [
         "30",
         "2018-02-02 00:00:00",
         "-0.4",
         "-0.30878007411956787",
         "2762.1298828125",
         "3",
         "1",
         "1",
         "0.6",
         "0.2",
         "0.2"
        ],
        [
         "31",
         "2018-02-05 00:00:00",
         "-0.07575757575757576",
         "-0.06338071823120117",
         "2648.93994140625",
         "13",
         "45",
         "8",
         "0.19696969696969696",
         "0.6818181818181818",
         "0.12121212121212122"
        ],
        [
         "32",
         "2018-02-06 00:00:00",
         "-0.20408163265306123",
         "-0.19255161528684656",
         "2695.139892578125",
         "15",
         "29",
         "5",
         "0.30612244897959184",
         "0.5918367346938775",
         "0.10204081632653061"
        ],
        [
         "33",
         "2018-02-07 00:00:00",
         "-0.1111111111111111",
         "-0.12346108754475911",
         "2681.659912109375",
         "11",
         "8",
         "8",
         "0.4074074074074074",
         "0.2962962962962963",
         "0.2962962962962963"
        ],
        [
         "34",
         "2018-02-08 00:00:00",
         "-0.041666666666666664",
         "-0.028797167042891186",
         "2581.0",
         "9",
         "32",
         "7",
         "0.1875",
         "0.6666666666666666",
         "0.14583333333333334"
        ],
        [
         "35",
         "2018-02-09 00:00:00",
         "-0.2857142857142857",
         "-0.27080004130090984",
         "2619.550048828125",
         "10",
         "16",
         "2",
         "0.35714285714285715",
         "0.5714285714285714",
         "0.07142857142857142"
        ],
        [
         "36",
         "2018-02-12 00:00:00",
         "-0.22580645161290322",
         "-0.21894139243710425",
         "2656.0",
         "19",
         "38",
         "5",
         "0.3064516129032258",
         "0.6129032258064516",
         "0.08064516129032258"
        ],
        [
         "37",
         "2018-02-14 00:00:00",
         "-0.21428571428571427",
         "-0.20204561948776245",
         "2698.6298828125",
         "12",
         "27",
         "3",
         "0.2857142857142857",
         "0.6428571428571429",
         "0.07142857142857142"
        ],
        [
         "38",
         "2018-02-15 00:00:00",
         "1.0",
         "0.999996542930603",
         "2731.199951171875",
         "0",
         "0",
         "1",
         "0.0",
         "0.0",
         "1.0"
        ],
        [
         "39",
         "2018-02-16 00:00:00",
         "-0.175",
         "-0.18249874711036682",
         "2732.219970703125",
         "9",
         "29",
         "2",
         "0.225",
         "0.725",
         "0.05"
        ],
        [
         "40",
         "2018-02-20 00:00:00",
         "-0.06557377049180328",
         "-0.062076154790940835",
         "2716.260009765625",
         "11",
         "43",
         "7",
         "0.18032786885245902",
         "0.7049180327868853",
         "0.11475409836065574"
        ],
        [
         "41",
         "2018-02-21 00:00:00",
         "-0.08695652173913043",
         "-0.07969280688659004",
         "2701.330078125",
         "3",
         "19",
         "1",
         "0.13043478260869565",
         "0.8260869565217391",
         "0.043478260869565216"
        ],
        [
         "42",
         "2018-02-22 00:00:00",
         "-0.2926829268292683",
         "-0.2776984761400921",
         "2703.9599609375",
         "13",
         "27",
         "1",
         "0.3170731707317073",
         "0.6585365853658537",
         "0.024390243902439025"
        ],
        [
         "43",
         "2018-02-23 00:00:00",
         "0.0",
         "0.008391460776329041",
         "2747.300048828125",
         "3",
         "14",
         "3",
         "0.15",
         "0.7",
         "0.15"
        ],
        [
         "44",
         "2018-02-26 00:00:00",
         "-0.2127659574468085",
         "-0.21364124024167974",
         "2779.60009765625",
         "13",
         "31",
         "3",
         "0.2765957446808511",
         "0.6595744680851063",
         "0.06382978723404255"
        ],
        [
         "45",
         "2018-02-27 00:00:00",
         "-0.06382978723404255",
         "-0.04054540142099908",
         "2744.280029296875",
         "11",
         "28",
         "8",
         "0.23404255319148937",
         "0.5957446808510638",
         "0.1702127659574468"
        ],
        [
         "46",
         "2018-02-28 00:00:00",
         "0.07407407407407407",
         "0.04800891765841731",
         "2713.830078125",
         "4",
         "17",
         "6",
         "0.14814814814814814",
         "0.6296296296296297",
         "0.2222222222222222"
        ],
        [
         "47",
         "2018-03-01 00:00:00",
         "0.15",
         "0.12054626047611236",
         "2677.669921875",
         "2",
         "13",
         "5",
         "0.1",
         "0.65",
         "0.25"
        ],
        [
         "48",
         "2018-03-02 00:00:00",
         "0.0",
         "-0.0035034090280532835",
         "2691.25",
         "3",
         "14",
         "3",
         "0.15",
         "0.7",
         "0.15"
        ],
        [
         "49",
         "2018-03-05 00:00:00",
         "-0.08333333333333333",
         "-0.07461282213528951",
         "2720.93994140625",
         "12",
         "41",
         "7",
         "0.2",
         "0.6833333333333333",
         "0.11666666666666667"
        ]
       ],
       "shape": {
        "columns": 10,
        "rows": 647
       }
      },
      "text/html": [
       "<div>\n",
       "<style scoped>\n",
       "    .dataframe tbody tr th:only-of-type {\n",
       "        vertical-align: middle;\n",
       "    }\n",
       "\n",
       "    .dataframe tbody tr th {\n",
       "        vertical-align: top;\n",
       "    }\n",
       "\n",
       "    .dataframe thead th {\n",
       "        text-align: right;\n",
       "    }\n",
       "</style>\n",
       "<table border=\"1\" class=\"dataframe\">\n",
       "  <thead>\n",
       "    <tr style=\"text-align: right;\">\n",
       "      <th></th>\n",
       "      <th>Date</th>\n",
       "      <th>sentiment_numeric_finbert</th>\n",
       "      <th>sentiment_score_finbert</th>\n",
       "      <th>Close</th>\n",
       "      <th>Count_-1</th>\n",
       "      <th>Count_0</th>\n",
       "      <th>Count_1</th>\n",
       "      <th>Count_-1 Ratio</th>\n",
       "      <th>Count_0 Ratio</th>\n",
       "      <th>Count_1 Ratio</th>\n",
       "    </tr>\n",
       "  </thead>\n",
       "  <tbody>\n",
       "    <tr>\n",
       "      <th>0</th>\n",
       "      <td>2017-12-18</td>\n",
       "      <td>-0.133333</td>\n",
       "      <td>-0.123620</td>\n",
       "      <td>2690.159912</td>\n",
       "      <td>16</td>\n",
       "      <td>36</td>\n",
       "      <td>8</td>\n",
       "      <td>0.266667</td>\n",
       "      <td>0.600000</td>\n",
       "      <td>0.133333</td>\n",
       "    </tr>\n",
       "    <tr>\n",
       "      <th>1</th>\n",
       "      <td>2017-12-19</td>\n",
       "      <td>-0.150000</td>\n",
       "      <td>-0.141546</td>\n",
       "      <td>2681.469971</td>\n",
       "      <td>4</td>\n",
       "      <td>15</td>\n",
       "      <td>1</td>\n",
       "      <td>0.200000</td>\n",
       "      <td>0.750000</td>\n",
       "      <td>0.050000</td>\n",
       "    </tr>\n",
       "    <tr>\n",
       "      <th>2</th>\n",
       "      <td>2017-12-20</td>\n",
       "      <td>-0.100000</td>\n",
       "      <td>-0.091164</td>\n",
       "      <td>2679.250000</td>\n",
       "      <td>3</td>\n",
       "      <td>16</td>\n",
       "      <td>1</td>\n",
       "      <td>0.150000</td>\n",
       "      <td>0.800000</td>\n",
       "      <td>0.050000</td>\n",
       "    </tr>\n",
       "    <tr>\n",
       "      <th>3</th>\n",
       "      <td>2017-12-21</td>\n",
       "      <td>-0.050000</td>\n",
       "      <td>-0.045027</td>\n",
       "      <td>2684.570068</td>\n",
       "      <td>3</td>\n",
       "      <td>15</td>\n",
       "      <td>2</td>\n",
       "      <td>0.150000</td>\n",
       "      <td>0.750000</td>\n",
       "      <td>0.100000</td>\n",
       "    </tr>\n",
       "    <tr>\n",
       "      <th>4</th>\n",
       "      <td>2017-12-22</td>\n",
       "      <td>-0.086957</td>\n",
       "      <td>-0.059859</td>\n",
       "      <td>2683.340088</td>\n",
       "      <td>4</td>\n",
       "      <td>17</td>\n",
       "      <td>2</td>\n",
       "      <td>0.173913</td>\n",
       "      <td>0.739130</td>\n",
       "      <td>0.086957</td>\n",
       "    </tr>\n",
       "    <tr>\n",
       "      <th>...</th>\n",
       "      <td>...</td>\n",
       "      <td>...</td>\n",
       "      <td>...</td>\n",
       "      <td>...</td>\n",
       "      <td>...</td>\n",
       "      <td>...</td>\n",
       "      <td>...</td>\n",
       "      <td>...</td>\n",
       "      <td>...</td>\n",
       "      <td>...</td>\n",
       "    </tr>\n",
       "    <tr>\n",
       "      <th>642</th>\n",
       "      <td>2020-07-13</td>\n",
       "      <td>-0.016949</td>\n",
       "      <td>-0.001700</td>\n",
       "      <td>3155.219971</td>\n",
       "      <td>22</td>\n",
       "      <td>76</td>\n",
       "      <td>20</td>\n",
       "      <td>0.186441</td>\n",
       "      <td>0.644068</td>\n",
       "      <td>0.169492</td>\n",
       "    </tr>\n",
       "    <tr>\n",
       "      <th>643</th>\n",
       "      <td>2020-07-14</td>\n",
       "      <td>-0.045045</td>\n",
       "      <td>-0.049339</td>\n",
       "      <td>3197.520020</td>\n",
       "      <td>25</td>\n",
       "      <td>66</td>\n",
       "      <td>20</td>\n",
       "      <td>0.225225</td>\n",
       "      <td>0.594595</td>\n",
       "      <td>0.180180</td>\n",
       "    </tr>\n",
       "    <tr>\n",
       "      <th>644</th>\n",
       "      <td>2020-07-15</td>\n",
       "      <td>0.025210</td>\n",
       "      <td>0.014326</td>\n",
       "      <td>3226.560059</td>\n",
       "      <td>22</td>\n",
       "      <td>72</td>\n",
       "      <td>25</td>\n",
       "      <td>0.184874</td>\n",
       "      <td>0.605042</td>\n",
       "      <td>0.210084</td>\n",
       "    </tr>\n",
       "    <tr>\n",
       "      <th>645</th>\n",
       "      <td>2020-07-16</td>\n",
       "      <td>-0.176991</td>\n",
       "      <td>-0.161201</td>\n",
       "      <td>3215.570068</td>\n",
       "      <td>30</td>\n",
       "      <td>73</td>\n",
       "      <td>10</td>\n",
       "      <td>0.265487</td>\n",
       "      <td>0.646018</td>\n",
       "      <td>0.088496</td>\n",
       "    </tr>\n",
       "    <tr>\n",
       "      <th>646</th>\n",
       "      <td>2020-07-17</td>\n",
       "      <td>-0.191176</td>\n",
       "      <td>-0.196193</td>\n",
       "      <td>3224.729980</td>\n",
       "      <td>17</td>\n",
       "      <td>47</td>\n",
       "      <td>4</td>\n",
       "      <td>0.250000</td>\n",
       "      <td>0.691176</td>\n",
       "      <td>0.058824</td>\n",
       "    </tr>\n",
       "  </tbody>\n",
       "</table>\n",
       "<p>647 rows × 10 columns</p>\n",
       "</div>"
      ],
      "text/plain": [
       "          Date  sentiment_numeric_finbert  sentiment_score_finbert  \\\n",
       "0   2017-12-18                  -0.133333                -0.123620   \n",
       "1   2017-12-19                  -0.150000                -0.141546   \n",
       "2   2017-12-20                  -0.100000                -0.091164   \n",
       "3   2017-12-21                  -0.050000                -0.045027   \n",
       "4   2017-12-22                  -0.086957                -0.059859   \n",
       "..         ...                        ...                      ...   \n",
       "642 2020-07-13                  -0.016949                -0.001700   \n",
       "643 2020-07-14                  -0.045045                -0.049339   \n",
       "644 2020-07-15                   0.025210                 0.014326   \n",
       "645 2020-07-16                  -0.176991                -0.161201   \n",
       "646 2020-07-17                  -0.191176                -0.196193   \n",
       "\n",
       "           Close  Count_-1  Count_0  Count_1  Count_-1 Ratio  Count_0 Ratio  \\\n",
       "0    2690.159912        16       36        8        0.266667       0.600000   \n",
       "1    2681.469971         4       15        1        0.200000       0.750000   \n",
       "2    2679.250000         3       16        1        0.150000       0.800000   \n",
       "3    2684.570068         3       15        2        0.150000       0.750000   \n",
       "4    2683.340088         4       17        2        0.173913       0.739130   \n",
       "..           ...       ...      ...      ...             ...            ...   \n",
       "642  3155.219971        22       76       20        0.186441       0.644068   \n",
       "643  3197.520020        25       66       20        0.225225       0.594595   \n",
       "644  3226.560059        22       72       25        0.184874       0.605042   \n",
       "645  3215.570068        30       73       10        0.265487       0.646018   \n",
       "646  3224.729980        17       47        4        0.250000       0.691176   \n",
       "\n",
       "     Count_1 Ratio  \n",
       "0         0.133333  \n",
       "1         0.050000  \n",
       "2         0.050000  \n",
       "3         0.100000  \n",
       "4         0.086957  \n",
       "..             ...  \n",
       "642       0.169492  \n",
       "643       0.180180  \n",
       "644       0.210084  \n",
       "645       0.088496  \n",
       "646       0.058824  \n",
       "\n",
       "[647 rows x 10 columns]"
      ]
     },
     "execution_count": 17,
     "metadata": {},
     "output_type": "execute_result"
    }
   ],
   "source": [
    "sentiment_counts = final_df.groupby(['Date', 'sentiment_numeric_finbert']).size().unstack(fill_value=0)\n",
    "sentiment_counts.reset_index(inplace=True)\n",
    "sentiment_counts.columns =[\"Date\", \"Count_-1\",\"Count_0\",\"Count_1\"]\n",
    "grouped_df = final_df.groupby(by=\"Date\").mean()\n",
    "grouped_df.reset_index(inplace=True)\n",
    "grouped_df.sort_values(by=\"Date\", inplace=True)\n",
    "grouped_df = pd.merge(grouped_df, sentiment_counts, on=\"Date\", how=\"left\")\n",
    "\n",
    "# Adding Count Ratios\n",
    "total_counts = np.sum([grouped_df[\"Count_-1\"], grouped_df[\"Count_0\"], grouped_df[\"Count_1\"]], axis=0)\n",
    "grouped_df[\"Count_-1 Ratio\"] = grouped_df[\"Count_-1\"] / total_counts\n",
    "grouped_df[\"Count_0 Ratio\"] = grouped_df[\"Count_0\"] / total_counts\n",
    "grouped_df[\"Count_1 Ratio\"] = grouped_df[\"Count_1\"] / total_counts\n",
    "grouped_df"
   ]
  },
  {
   "cell_type": "code",
   "execution_count": 19,
   "metadata": {},
   "outputs": [
    {
     "data": {
      "application/vnd.microsoft.datawrangler.viewer.v0+json": {
       "columns": [
        {
         "name": "index",
         "rawType": "int64",
         "type": "integer"
        },
        {
         "name": "Date",
         "rawType": "datetime64[ns]",
         "type": "datetime"
        },
        {
         "name": "sentiment_numeric_finbert",
         "rawType": "float64",
         "type": "float"
        },
        {
         "name": "sentiment_score_finbert",
         "rawType": "float64",
         "type": "float"
        },
        {
         "name": "Close",
         "rawType": "float64",
         "type": "float"
        },
        {
         "name": "Count_-1",
         "rawType": "int64",
         "type": "integer"
        },
        {
         "name": "Count_0",
         "rawType": "int64",
         "type": "integer"
        },
        {
         "name": "Count_1",
         "rawType": "int64",
         "type": "integer"
        },
        {
         "name": "Count_-1 Ratio",
         "rawType": "float64",
         "type": "float"
        },
        {
         "name": "Count_0 Ratio",
         "rawType": "float64",
         "type": "float"
        },
        {
         "name": "Count_1 Ratio",
         "rawType": "float64",
         "type": "float"
        },
        {
         "name": "Price_Change",
         "rawType": "float64",
         "type": "float"
        },
        {
         "name": "Price_Label",
         "rawType": "int64",
         "type": "integer"
        }
       ],
       "conversionMethod": "pd.DataFrame",
       "ref": "4ffbf207-d226-48f5-baa0-a8b5aee95a07",
       "rows": [
        [
         "0",
         "2017-12-18 00:00:00",
         "-0.13333333333333333",
         "-0.1236202488342921",
         "2690.159912109375",
         "16",
         "36",
         "8",
         "0.26666666666666666",
         "0.6",
         "0.13333333333333333",
         null,
         "0"
        ],
        [
         "1",
         "2017-12-19 00:00:00",
         "-0.15",
         "-0.14154596030712127",
         "2681.469970703125",
         "4",
         "15",
         "1",
         "0.2",
         "0.75",
         "0.05",
         "-0.0032302694598687065",
         "-1"
        ],
        [
         "2",
         "2017-12-20 00:00:00",
         "-0.1",
         "-0.09116429388523102",
         "2679.25",
         "3",
         "16",
         "1",
         "0.15",
         "0.8",
         "0.05",
         "-0.0008278931807477186",
         "-1"
        ],
        [
         "3",
         "2017-12-21 00:00:00",
         "-0.05",
         "-0.04502745270729065",
         "2684.570068359375",
         "3",
         "15",
         "2",
         "0.15",
         "0.75",
         "0.1",
         "0.0019856558213586784",
         "1"
        ],
        [
         "4",
         "2017-12-22 00:00:00",
         "-0.08695652173913043",
         "-0.059859120327493416",
         "2683.340087890625",
         "4",
         "17",
         "2",
         "0.17391304347826086",
         "0.7391304347826086",
         "0.08695652173913043",
         "-0.0004581666477052604",
         "-1"
        ],
        [
         "5",
         "2017-12-26 00:00:00",
         "-0.19047619047619047",
         "-0.19158482835406349",
         "2680.5",
         "6",
         "13",
         "2",
         "0.2857142857142857",
         "0.6190476190476191",
         "0.09523809523809523",
         "-0.0010584151831672939",
         "-1"
        ],
        [
         "6",
         "2017-12-27 00:00:00",
         "0.09523809523809523",
         "0.0984369431223188",
         "2682.6201171875",
         "2",
         "15",
         "4",
         "0.09523809523809523",
         "0.7142857142857143",
         "0.19047619047619047",
         "0.0007909409391904099",
         "1"
        ],
        [
         "7",
         "2017-12-28 00:00:00",
         "0.0",
         "-0.014722761511802674",
         "2687.5400390625",
         "4",
         "12",
         "4",
         "0.2",
         "0.6",
         "0.2",
         "0.0018339987251561052",
         "1"
        ],
        [
         "8",
         "2018-01-02 00:00:00",
         "0.05970149253731343",
         "0.07039985549983693",
         "2695.81005859375",
         "15",
         "33",
         "19",
         "0.22388059701492538",
         "0.4925373134328358",
         "0.2835820895522388",
         "0.00307717072529079",
         "1"
        ],
        [
         "9",
         "2018-01-03 00:00:00",
         "-0.038461538461538464",
         "-0.015352088671464186",
         "2713.06005859375",
         "5",
         "17",
         "4",
         "0.19230769230769232",
         "0.6538461538461539",
         "0.15384615384615385",
         "0.006398818768781567",
         "1"
        ],
        [
         "10",
         "2018-01-04 00:00:00",
         "-0.1111111111111111",
         "-0.10738496427182798",
         "2723.989990234375",
         "8",
         "14",
         "5",
         "0.2962962962962963",
         "0.5185185185185185",
         "0.18518518518518517",
         "0.004028636080503967",
         "1"
        ],
        [
         "11",
         "2018-01-05 00:00:00",
         "-0.09375",
         "-0.07977861352264881",
         "2743.14990234375",
         "7",
         "21",
         "4",
         "0.21875",
         "0.65625",
         "0.125",
         "0.007033767443369587",
         "1"
        ],
        [
         "12",
         "2018-01-08 00:00:00",
         "-0.021739130434782608",
         "0.0003023497436357581",
         "2747.7099609375",
         "9",
         "29",
         "8",
         "0.1956521739130435",
         "0.6304347826086957",
         "0.17391304347826086",
         "0.0016623439316436617",
         "1"
        ],
        [
         "13",
         "2018-01-09 00:00:00",
         "-0.2",
         "-0.1671543550491333",
         "2751.2900390625",
         "6",
         "18",
         "1",
         "0.24",
         "0.72",
         "0.04",
         "0.0013029315960912946",
         "1"
        ],
        [
         "14",
         "2018-01-10 00:00:00",
         "-0.08695652173913043",
         "-0.09609446318253227",
         "2748.22998046875",
         "10",
         "30",
         "6",
         "0.21739130434782608",
         "0.6521739130434783",
         "0.13043478260869565",
         "-0.0011122268282528491",
         "-1"
        ],
        [
         "15",
         "2018-01-11 00:00:00",
         "0.0",
         "0.015272829532623291",
         "2767.56005859375",
         "4",
         "17",
         "4",
         "0.16",
         "0.68",
         "0.16",
         "0.007033646478779465",
         "1"
        ],
        [
         "16",
         "2018-01-12 00:00:00",
         "0.038461538461538464",
         "0.05122665487802946",
         "2786.239990234375",
         "5",
         "15",
         "6",
         "0.19230769230769232",
         "0.5769230769230769",
         "0.23076923076923078",
         "0.006749602987881076",
         "1"
        ],
        [
         "17",
         "2018-01-16 00:00:00",
         "-0.18823529411764706",
         "-0.18505192083470962",
         "2776.419921875",
         "25",
         "51",
         "9",
         "0.29411764705882354",
         "0.6",
         "0.10588235294117647",
         "-0.003524487622672101",
         "-1"
        ],
        [
         "18",
         "2018-01-17 00:00:00",
         "-0.06666666666666667",
         "-0.06797216203477648",
         "2802.56005859375",
         "8",
         "32",
         "5",
         "0.17777777777777778",
         "0.7111111111111111",
         "0.1111111111111111",
         "0.009415051560751175",
         "1"
        ],
        [
         "19",
         "2018-01-18 00:00:00",
         "-0.11627906976744186",
         "-0.11310027782307115",
         "2798.030029296875",
         "10",
         "28",
         "5",
         "0.23255813953488372",
         "0.6511627906976745",
         "0.11627906976744186",
         "-0.0016163897301626484",
         "-1"
        ],
        [
         "20",
         "2018-01-19 00:00:00",
         "-0.038461538461538464",
         "-0.027826240429511435",
         "2810.300048828125",
         "6",
         "15",
         "5",
         "0.23076923076923078",
         "0.5769230769230769",
         "0.19230769230769232",
         "0.004385235112838837",
         "1"
        ],
        [
         "21",
         "2018-01-22 00:00:00",
         "-0.10416666666666667",
         "-0.09757716581225395",
         "2832.969970703125",
         "10",
         "33",
         "5",
         "0.20833333333333334",
         "0.6875",
         "0.10416666666666667",
         "0.008066726499347698",
         "1"
        ],
        [
         "22",
         "2018-01-23 00:00:00",
         "0.0",
         "0.015460355126339457",
         "2839.1298828125",
         "8",
         "30",
         "8",
         "0.17391304347826086",
         "0.6521739130434783",
         "0.17391304347826086",
         "0.0021743654797181655",
         "1"
        ],
        [
         "23",
         "2018-01-24 00:00:00",
         "-0.24",
         "-0.21068358182907104",
         "2837.5400390625",
         "7",
         "17",
         "1",
         "0.28",
         "0.68",
         "0.04",
         "-0.0005599757022828333",
         "-1"
        ],
        [
         "24",
         "2018-01-25 00:00:00",
         "0.05",
         "0.04966026842594147",
         "2839.25",
         "1",
         "17",
         "2",
         "0.05",
         "0.85",
         "0.1",
         "0.0006026209018938911",
         "1"
        ],
        [
         "25",
         "2018-01-26 00:00:00",
         "-0.06818181818181818",
         "-0.07147028906778856",
         "2872.8701171875",
         "9",
         "29",
         "6",
         "0.20454545454545456",
         "0.6590909090909091",
         "0.13636363636363635",
         "0.011841196508761032",
         "1"
        ],
        [
         "26",
         "2018-01-29 00:00:00",
         "-0.02040816326530612",
         "-0.019911116483260174",
         "2853.530029296875",
         "7",
         "36",
         "6",
         "0.14285714285714285",
         "0.7346938775510204",
         "0.12244897959183673",
         "-0.006731974332887192",
         "-1"
        ],
        [
         "27",
         "2018-01-30 00:00:00",
         "-0.13333333333333333",
         "-0.1212965640756819",
         "2822.429931640625",
         "11",
         "29",
         "5",
         "0.24444444444444444",
         "0.6444444444444445",
         "0.1111111111111111",
         "-0.010898815620283941",
         "-1"
        ],
        [
         "28",
         "2018-01-31 00:00:00",
         "-0.041666666666666664",
         "-0.04204972336689631",
         "2823.81005859375",
         "4",
         "17",
         "3",
         "0.16666666666666666",
         "0.7083333333333334",
         "0.125",
         "0.0004889853730833948",
         "1"
        ],
        [
         "29",
         "2018-02-01 00:00:00",
         "0.0",
         "0.01057632591413415",
         "2821.97998046875",
         "8",
         "30",
         "8",
         "0.17391304347826086",
         "0.6521739130434783",
         "0.17391304347826086",
         "-0.0006480882520516484",
         "-1"
        ],
        [
         "30",
         "2018-02-02 00:00:00",
         "-0.4",
         "-0.30878007411956787",
         "2762.1298828125",
         "3",
         "1",
         "1",
         "0.6",
         "0.2",
         "0.2",
         "-0.02120854792396809",
         "-1"
        ],
        [
         "31",
         "2018-02-05 00:00:00",
         "-0.07575757575757576",
         "-0.06338071823120117",
         "2648.93994140625",
         "13",
         "45",
         "8",
         "0.19696969696969696",
         "0.6818181818181818",
         "0.12121212121212122",
         "-0.04097922480422822",
         "-1"
        ],
        [
         "32",
         "2018-02-06 00:00:00",
         "-0.20408163265306123",
         "-0.19255161528684656",
         "2695.139892578125",
         "15",
         "29",
         "5",
         "0.30612244897959184",
         "0.5918367346938775",
         "0.10204081632653061",
         "0.017440920592313836",
         "1"
        ],
        [
         "33",
         "2018-02-07 00:00:00",
         "-0.1111111111111111",
         "-0.12346108754475911",
         "2681.659912109375",
         "11",
         "8",
         "8",
         "0.4074074074074074",
         "0.2962962962962963",
         "0.2962962962962963",
         "-0.005001588416939429",
         "-1"
        ],
        [
         "34",
         "2018-02-08 00:00:00",
         "-0.041666666666666664",
         "-0.028797167042891186",
         "2581.0",
         "9",
         "32",
         "7",
         "0.1875",
         "0.6666666666666666",
         "0.14583333333333334",
         "-0.03753641975808808",
         "-1"
        ],
        [
         "35",
         "2018-02-09 00:00:00",
         "-0.2857142857142857",
         "-0.27080004130090984",
         "2619.550048828125",
         "10",
         "16",
         "2",
         "0.35714285714285715",
         "0.5714285714285714",
         "0.07142857142857142",
         "0.014936090208494734",
         "1"
        ],
        [
         "36",
         "2018-02-12 00:00:00",
         "-0.22580645161290322",
         "-0.21894139243710425",
         "2656.0",
         "19",
         "38",
         "5",
         "0.3064516129032258",
         "0.6129032258064516",
         "0.08064516129032258",
         "0.013914584754042503",
         "1"
        ],
        [
         "37",
         "2018-02-14 00:00:00",
         "-0.21428571428571427",
         "-0.20204561948776245",
         "2698.6298828125",
         "12",
         "27",
         "3",
         "0.2857142857142857",
         "0.6428571428571429",
         "0.07142857142857142",
         "0.016050407685429313",
         "1"
        ],
        [
         "38",
         "2018-02-15 00:00:00",
         "1.0",
         "0.999996542930603",
         "2731.199951171875",
         "0",
         "0",
         "1",
         "0.0",
         "0.0",
         "1.0",
         "0.012069112762299383",
         "1"
        ],
        [
         "39",
         "2018-02-16 00:00:00",
         "-0.175",
         "-0.18249874711036682",
         "2732.219970703125",
         "9",
         "29",
         "2",
         "0.225",
         "0.725",
         "0.05",
         "0.0003734693722488025",
         "1"
        ],
        [
         "40",
         "2018-02-20 00:00:00",
         "-0.06557377049180328",
         "-0.062076154790940835",
         "2716.260009765625",
         "11",
         "43",
         "7",
         "0.18032786885245902",
         "0.7049180327868853",
         "0.11475409836065574",
         "-0.005841389459353419",
         "-1"
        ],
        [
         "41",
         "2018-02-21 00:00:00",
         "-0.08695652173913043",
         "-0.07969280688659004",
         "2701.330078125",
         "3",
         "19",
         "1",
         "0.13043478260869565",
         "0.8260869565217391",
         "0.043478260869565216",
         "-0.0054965031281792864",
         "-1"
        ],
        [
         "42",
         "2018-02-22 00:00:00",
         "-0.2926829268292683",
         "-0.2776984761400921",
         "2703.9599609375",
         "13",
         "27",
         "1",
         "0.3170731707317073",
         "0.6585365853658537",
         "0.024390243902439025",
         "0.0009735510790762625",
         "1"
        ],
        [
         "43",
         "2018-02-23 00:00:00",
         "0.0",
         "0.008391460776329041",
         "2747.300048828125",
         "3",
         "14",
         "3",
         "0.15",
         "0.7",
         "0.15",
         "0.01602837635051313",
         "1"
        ],
        [
         "44",
         "2018-02-26 00:00:00",
         "-0.2127659574468085",
         "-0.21364124024167974",
         "2779.60009765625",
         "13",
         "31",
         "3",
         "0.2765957446808511",
         "0.6595744680851063",
         "0.06382978723404255",
         "0.011757015343810906",
         "1"
        ],
        [
         "45",
         "2018-02-27 00:00:00",
         "-0.06382978723404255",
         "-0.04054540142099908",
         "2744.280029296875",
         "11",
         "28",
         "8",
         "0.23404255319148937",
         "0.5957446808510638",
         "0.1702127659574468",
         "-0.012706888443829278",
         "-1"
        ],
        [
         "46",
         "2018-02-28 00:00:00",
         "0.07407407407407407",
         "0.04800891765841731",
         "2713.830078125",
         "4",
         "17",
         "6",
         "0.14814814814814814",
         "0.6296296296296297",
         "0.2222222222222222",
         "-0.011095788639207016",
         "-1"
        ],
        [
         "47",
         "2018-03-01 00:00:00",
         "0.15",
         "0.12054626047611236",
         "2677.669921875",
         "2",
         "13",
         "5",
         "0.1",
         "0.65",
         "0.25",
         "-0.013324399541987275",
         "-1"
        ],
        [
         "48",
         "2018-03-02 00:00:00",
         "0.0",
         "-0.0035034090280532835",
         "2691.25",
         "3",
         "14",
         "3",
         "0.15",
         "0.7",
         "0.15",
         "0.005071602744632031",
         "1"
        ],
        [
         "49",
         "2018-03-05 00:00:00",
         "-0.08333333333333333",
         "-0.07461282213528951",
         "2720.93994140625",
         "12",
         "41",
         "7",
         "0.2",
         "0.6833333333333333",
         "0.11666666666666667",
         "0.011032026532745043",
         "1"
        ]
       ],
       "shape": {
        "columns": 12,
        "rows": 647
       }
      },
      "text/html": [
       "<div>\n",
       "<style scoped>\n",
       "    .dataframe tbody tr th:only-of-type {\n",
       "        vertical-align: middle;\n",
       "    }\n",
       "\n",
       "    .dataframe tbody tr th {\n",
       "        vertical-align: top;\n",
       "    }\n",
       "\n",
       "    .dataframe thead th {\n",
       "        text-align: right;\n",
       "    }\n",
       "</style>\n",
       "<table border=\"1\" class=\"dataframe\">\n",
       "  <thead>\n",
       "    <tr style=\"text-align: right;\">\n",
       "      <th></th>\n",
       "      <th>Date</th>\n",
       "      <th>sentiment_numeric_finbert</th>\n",
       "      <th>sentiment_score_finbert</th>\n",
       "      <th>Close</th>\n",
       "      <th>Count_-1</th>\n",
       "      <th>Count_0</th>\n",
       "      <th>Count_1</th>\n",
       "      <th>Count_-1 Ratio</th>\n",
       "      <th>Count_0 Ratio</th>\n",
       "      <th>Count_1 Ratio</th>\n",
       "      <th>Price_Change</th>\n",
       "      <th>Price_Label</th>\n",
       "    </tr>\n",
       "  </thead>\n",
       "  <tbody>\n",
       "    <tr>\n",
       "      <th>0</th>\n",
       "      <td>2017-12-18</td>\n",
       "      <td>-0.133333</td>\n",
       "      <td>-0.123620</td>\n",
       "      <td>2690.159912</td>\n",
       "      <td>16</td>\n",
       "      <td>36</td>\n",
       "      <td>8</td>\n",
       "      <td>0.266667</td>\n",
       "      <td>0.600000</td>\n",
       "      <td>0.133333</td>\n",
       "      <td>NaN</td>\n",
       "      <td>0</td>\n",
       "    </tr>\n",
       "    <tr>\n",
       "      <th>1</th>\n",
       "      <td>2017-12-19</td>\n",
       "      <td>-0.150000</td>\n",
       "      <td>-0.141546</td>\n",
       "      <td>2681.469971</td>\n",
       "      <td>4</td>\n",
       "      <td>15</td>\n",
       "      <td>1</td>\n",
       "      <td>0.200000</td>\n",
       "      <td>0.750000</td>\n",
       "      <td>0.050000</td>\n",
       "      <td>-0.003230</td>\n",
       "      <td>-1</td>\n",
       "    </tr>\n",
       "    <tr>\n",
       "      <th>2</th>\n",
       "      <td>2017-12-20</td>\n",
       "      <td>-0.100000</td>\n",
       "      <td>-0.091164</td>\n",
       "      <td>2679.250000</td>\n",
       "      <td>3</td>\n",
       "      <td>16</td>\n",
       "      <td>1</td>\n",
       "      <td>0.150000</td>\n",
       "      <td>0.800000</td>\n",
       "      <td>0.050000</td>\n",
       "      <td>-0.000828</td>\n",
       "      <td>-1</td>\n",
       "    </tr>\n",
       "    <tr>\n",
       "      <th>3</th>\n",
       "      <td>2017-12-21</td>\n",
       "      <td>-0.050000</td>\n",
       "      <td>-0.045027</td>\n",
       "      <td>2684.570068</td>\n",
       "      <td>3</td>\n",
       "      <td>15</td>\n",
       "      <td>2</td>\n",
       "      <td>0.150000</td>\n",
       "      <td>0.750000</td>\n",
       "      <td>0.100000</td>\n",
       "      <td>0.001986</td>\n",
       "      <td>1</td>\n",
       "    </tr>\n",
       "    <tr>\n",
       "      <th>4</th>\n",
       "      <td>2017-12-22</td>\n",
       "      <td>-0.086957</td>\n",
       "      <td>-0.059859</td>\n",
       "      <td>2683.340088</td>\n",
       "      <td>4</td>\n",
       "      <td>17</td>\n",
       "      <td>2</td>\n",
       "      <td>0.173913</td>\n",
       "      <td>0.739130</td>\n",
       "      <td>0.086957</td>\n",
       "      <td>-0.000458</td>\n",
       "      <td>-1</td>\n",
       "    </tr>\n",
       "    <tr>\n",
       "      <th>...</th>\n",
       "      <td>...</td>\n",
       "      <td>...</td>\n",
       "      <td>...</td>\n",
       "      <td>...</td>\n",
       "      <td>...</td>\n",
       "      <td>...</td>\n",
       "      <td>...</td>\n",
       "      <td>...</td>\n",
       "      <td>...</td>\n",
       "      <td>...</td>\n",
       "      <td>...</td>\n",
       "      <td>...</td>\n",
       "    </tr>\n",
       "    <tr>\n",
       "      <th>642</th>\n",
       "      <td>2020-07-13</td>\n",
       "      <td>-0.016949</td>\n",
       "      <td>-0.001700</td>\n",
       "      <td>3155.219971</td>\n",
       "      <td>22</td>\n",
       "      <td>76</td>\n",
       "      <td>20</td>\n",
       "      <td>0.186441</td>\n",
       "      <td>0.644068</td>\n",
       "      <td>0.169492</td>\n",
       "      <td>-0.009363</td>\n",
       "      <td>-1</td>\n",
       "    </tr>\n",
       "    <tr>\n",
       "      <th>643</th>\n",
       "      <td>2020-07-14</td>\n",
       "      <td>-0.045045</td>\n",
       "      <td>-0.049339</td>\n",
       "      <td>3197.520020</td>\n",
       "      <td>25</td>\n",
       "      <td>66</td>\n",
       "      <td>20</td>\n",
       "      <td>0.225225</td>\n",
       "      <td>0.594595</td>\n",
       "      <td>0.180180</td>\n",
       "      <td>0.013406</td>\n",
       "      <td>1</td>\n",
       "    </tr>\n",
       "    <tr>\n",
       "      <th>644</th>\n",
       "      <td>2020-07-15</td>\n",
       "      <td>0.025210</td>\n",
       "      <td>0.014326</td>\n",
       "      <td>3226.560059</td>\n",
       "      <td>22</td>\n",
       "      <td>72</td>\n",
       "      <td>25</td>\n",
       "      <td>0.184874</td>\n",
       "      <td>0.605042</td>\n",
       "      <td>0.210084</td>\n",
       "      <td>0.009082</td>\n",
       "      <td>1</td>\n",
       "    </tr>\n",
       "    <tr>\n",
       "      <th>645</th>\n",
       "      <td>2020-07-16</td>\n",
       "      <td>-0.176991</td>\n",
       "      <td>-0.161201</td>\n",
       "      <td>3215.570068</td>\n",
       "      <td>30</td>\n",
       "      <td>73</td>\n",
       "      <td>10</td>\n",
       "      <td>0.265487</td>\n",
       "      <td>0.646018</td>\n",
       "      <td>0.088496</td>\n",
       "      <td>-0.003406</td>\n",
       "      <td>-1</td>\n",
       "    </tr>\n",
       "    <tr>\n",
       "      <th>646</th>\n",
       "      <td>2020-07-17</td>\n",
       "      <td>-0.191176</td>\n",
       "      <td>-0.196193</td>\n",
       "      <td>3224.729980</td>\n",
       "      <td>17</td>\n",
       "      <td>47</td>\n",
       "      <td>4</td>\n",
       "      <td>0.250000</td>\n",
       "      <td>0.691176</td>\n",
       "      <td>0.058824</td>\n",
       "      <td>0.002849</td>\n",
       "      <td>1</td>\n",
       "    </tr>\n",
       "  </tbody>\n",
       "</table>\n",
       "<p>647 rows × 12 columns</p>\n",
       "</div>"
      ],
      "text/plain": [
       "          Date  sentiment_numeric_finbert  sentiment_score_finbert  \\\n",
       "0   2017-12-18                  -0.133333                -0.123620   \n",
       "1   2017-12-19                  -0.150000                -0.141546   \n",
       "2   2017-12-20                  -0.100000                -0.091164   \n",
       "3   2017-12-21                  -0.050000                -0.045027   \n",
       "4   2017-12-22                  -0.086957                -0.059859   \n",
       "..         ...                        ...                      ...   \n",
       "642 2020-07-13                  -0.016949                -0.001700   \n",
       "643 2020-07-14                  -0.045045                -0.049339   \n",
       "644 2020-07-15                   0.025210                 0.014326   \n",
       "645 2020-07-16                  -0.176991                -0.161201   \n",
       "646 2020-07-17                  -0.191176                -0.196193   \n",
       "\n",
       "           Close  Count_-1  Count_0  Count_1  Count_-1 Ratio  Count_0 Ratio  \\\n",
       "0    2690.159912        16       36        8        0.266667       0.600000   \n",
       "1    2681.469971         4       15        1        0.200000       0.750000   \n",
       "2    2679.250000         3       16        1        0.150000       0.800000   \n",
       "3    2684.570068         3       15        2        0.150000       0.750000   \n",
       "4    2683.340088         4       17        2        0.173913       0.739130   \n",
       "..           ...       ...      ...      ...             ...            ...   \n",
       "642  3155.219971        22       76       20        0.186441       0.644068   \n",
       "643  3197.520020        25       66       20        0.225225       0.594595   \n",
       "644  3226.560059        22       72       25        0.184874       0.605042   \n",
       "645  3215.570068        30       73       10        0.265487       0.646018   \n",
       "646  3224.729980        17       47        4        0.250000       0.691176   \n",
       "\n",
       "     Count_1 Ratio  Price_Change  Price_Label  \n",
       "0         0.133333           NaN            0  \n",
       "1         0.050000     -0.003230           -1  \n",
       "2         0.050000     -0.000828           -1  \n",
       "3         0.100000      0.001986            1  \n",
       "4         0.086957     -0.000458           -1  \n",
       "..             ...           ...          ...  \n",
       "642       0.169492     -0.009363           -1  \n",
       "643       0.180180      0.013406            1  \n",
       "644       0.210084      0.009082            1  \n",
       "645       0.088496     -0.003406           -1  \n",
       "646       0.058824      0.002849            1  \n",
       "\n",
       "[647 rows x 12 columns]"
      ]
     },
     "execution_count": 19,
     "metadata": {},
     "output_type": "execute_result"
    }
   ],
   "source": [
    "df_final = grouped_df.copy()\n",
    "df_final['Price_Change'] = df_final['Close'].pct_change()\n",
    "df_final['Price_Label'] = df_final['Price_Change'].apply(lambda x: -1 if x < 0 else 1 if x>0 else 0)\n",
    "df_final.reset_index(inplace=True,drop=True)\n",
    "df_final"
   ]
  },
  {
   "cell_type": "code",
   "execution_count": 20,
   "metadata": {},
   "outputs": [],
   "source": [
    "df_ml = df_final.loc[:,['Date', 'sentiment_numeric_finbert', 'sentiment_score_finbert','Count_-1 Ratio', 'Count_0 Ratio','Count_1 Ratio', 'Close','Price_Change', 'Price_Label']]"
   ]
  },
  {
   "cell_type": "markdown",
   "metadata": {},
   "source": [
    "### Using RandomForest, LogisticRegression and Gradint Boosting on Scores and Count Data"
   ]
  },
  {
   "cell_type": "code",
   "execution_count": 23,
   "metadata": {},
   "outputs": [
    {
     "name": "stderr",
     "output_type": "stream",
     "text": [
      "/opt/anaconda3/lib/python3.12/site-packages/sklearn/metrics/_classification.py:1509: UndefinedMetricWarning: Recall is ill-defined and being set to 0.0 in labels with no true samples. Use `zero_division` parameter to control this behavior.\n",
      "  _warn_prf(average, modifier, f\"{metric.capitalize()} is\", len(result))\n"
     ]
    },
    {
     "data": {
      "application/vnd.microsoft.datawrangler.viewer.v0+json": {
       "columns": [
        {
         "name": "index",
         "rawType": "int64",
         "type": "integer"
        },
        {
         "name": "Model",
         "rawType": "object",
         "type": "string"
        },
        {
         "name": "Accuracy",
         "rawType": "float64",
         "type": "float"
        },
        {
         "name": "Precision",
         "rawType": "float64",
         "type": "float"
        },
        {
         "name": "Recall",
         "rawType": "float64",
         "type": "float"
        },
        {
         "name": "F1 Score",
         "rawType": "float64",
         "type": "float"
        }
       ],
       "conversionMethod": "pd.DataFrame",
       "ref": "e4889345-ba35-4f56-8340-ede720042273",
       "rows": [
        [
         "0",
         "Random Forest",
         "0.5769230769230769",
         "0.5746364915572233",
         "0.5769230769230769",
         "0.5699056396547132"
        ],
        [
         "1",
         "Logistic Regression",
         "0.47692307692307695",
         "0.5944055944055944",
         "0.4769230769230769",
         "0.5181669394435352"
        ],
        [
         "2",
         "Gradient Boosting",
         "0.5538461538461539",
         "0.5504040932612362",
         "0.5538461538461539",
         "0.5473566433566434"
        ]
       ],
       "shape": {
        "columns": 5,
        "rows": 3
       }
      },
      "text/html": [
       "<div>\n",
       "<style scoped>\n",
       "    .dataframe tbody tr th:only-of-type {\n",
       "        vertical-align: middle;\n",
       "    }\n",
       "\n",
       "    .dataframe tbody tr th {\n",
       "        vertical-align: top;\n",
       "    }\n",
       "\n",
       "    .dataframe thead th {\n",
       "        text-align: right;\n",
       "    }\n",
       "</style>\n",
       "<table border=\"1\" class=\"dataframe\">\n",
       "  <thead>\n",
       "    <tr style=\"text-align: right;\">\n",
       "      <th></th>\n",
       "      <th>Model</th>\n",
       "      <th>Accuracy</th>\n",
       "      <th>Precision</th>\n",
       "      <th>Recall</th>\n",
       "      <th>F1 Score</th>\n",
       "    </tr>\n",
       "  </thead>\n",
       "  <tbody>\n",
       "    <tr>\n",
       "      <th>0</th>\n",
       "      <td>Random Forest</td>\n",
       "      <td>0.576923</td>\n",
       "      <td>0.574636</td>\n",
       "      <td>0.576923</td>\n",
       "      <td>0.569906</td>\n",
       "    </tr>\n",
       "    <tr>\n",
       "      <th>1</th>\n",
       "      <td>Logistic Regression</td>\n",
       "      <td>0.476923</td>\n",
       "      <td>0.594406</td>\n",
       "      <td>0.476923</td>\n",
       "      <td>0.518167</td>\n",
       "    </tr>\n",
       "    <tr>\n",
       "      <th>2</th>\n",
       "      <td>Gradient Boosting</td>\n",
       "      <td>0.553846</td>\n",
       "      <td>0.550404</td>\n",
       "      <td>0.553846</td>\n",
       "      <td>0.547357</td>\n",
       "    </tr>\n",
       "  </tbody>\n",
       "</table>\n",
       "</div>"
      ],
      "text/plain": [
       "                 Model  Accuracy  Precision    Recall  F1 Score\n",
       "0        Random Forest  0.576923   0.574636  0.576923  0.569906\n",
       "1  Logistic Regression  0.476923   0.594406  0.476923  0.518167\n",
       "2    Gradient Boosting  0.553846   0.550404  0.553846  0.547357"
      ]
     },
     "execution_count": 23,
     "metadata": {},
     "output_type": "execute_result"
    }
   ],
   "source": [
    "# Feature matrix and target\n",
    "X = df_ml[['sentiment_score_finbert',\n",
    "           'sentiment_numeric_finbert', 'Count_-1 Ratio', 'Count_0 Ratio', 'Count_1 Ratio']]\n",
    "y = df_final['Price_Label']\n",
    "\n",
    "# Train-test split\n",
    "X_train, X_test, y_train, y_test = train_test_split(X, y, test_size=0.2, random_state=42)\n",
    "\n",
    "# Define models\n",
    "models = {\n",
    "    \"Random Forest\": RandomForestClassifier(random_state=42, class_weight=\"balanced\"),\n",
    "    \"Logistic Regression\": LogisticRegression(max_iter=1000, class_weight=\"balanced\", random_state=42),\n",
    "    \"Gradient Boosting\": GradientBoostingClassifier(random_state=42)\n",
    "}\n",
    "\n",
    "# Evaluate each model\n",
    "results = []\n",
    "\n",
    "for name, model in models.items():\n",
    "    model.fit(X_train, y_train)\n",
    "    y_pred = model.predict(X_test)\n",
    "\n",
    "    acc = accuracy_score(y_test, y_pred)\n",
    "    prec = precision_score(y_test, y_pred, average=\"weighted\", zero_division=0)\n",
    "    rec = recall_score(y_test, y_pred, average=\"weighted\")\n",
    "    f1 = f1_score(y_test, y_pred, average=\"weighted\")\n",
    "\n",
    "    results.append({\n",
    "        \"Model\": name,\n",
    "        \"Accuracy\": acc,\n",
    "        \"Precision\": prec,\n",
    "        \"Recall\": rec,\n",
    "        \"F1 Score\": f1\n",
    "    })\n",
    "\n",
    "# Create and display results dataframe\n",
    "results_df = pd.DataFrame(results)\n",
    "results_df"
   ]
  },
  {
   "cell_type": "code",
   "execution_count": null,
   "metadata": {},
   "outputs": [],
   "source": [
    "import matplotlib.pyplot as plt\n",
    "import numpy as np\n",
    "feature_importances = clf.feature_importances_\n",
    "feature_importance_df = pd.DataFrame({\n",
    "    'Feature': X.columns,\n",
    "    'Importance': feature_importances\n",
    "}).sort_values(by='Importance', ascending=False)\n",
    "print(feature_importance_df)\n",
    "plt.figure(figsize=(8, 6))\n",
    "plt.barh(feature_importance_df['Feature'], feature_importance_df['Importance'], align='center')\n",
    "plt.xlabel(\"Feature Importance\")\n",
    "plt.ylabel(\"Features\")\n",
    "plt.title(\"Feature Importance in Random Forest\")\n",
    "plt.gca().invert_yaxis()\n",
    "plt.show()"
   ]
  },
  {
   "cell_type": "markdown",
   "metadata": {},
   "source": [
    "### Using ML Models with lagged data(n=5)"
   ]
  },
  {
   "cell_type": "code",
   "execution_count": 24,
   "metadata": {},
   "outputs": [
    {
     "data": {
      "application/vnd.microsoft.datawrangler.viewer.v0+json": {
       "columns": [
        {
         "name": "index",
         "rawType": "int64",
         "type": "integer"
        },
        {
         "name": "Model",
         "rawType": "object",
         "type": "string"
        },
        {
         "name": "Accuracy",
         "rawType": "float64",
         "type": "float"
        },
        {
         "name": "Precision",
         "rawType": "float64",
         "type": "float"
        },
        {
         "name": "Recall",
         "rawType": "float64",
         "type": "float"
        },
        {
         "name": "F1 Score",
         "rawType": "float64",
         "type": "float"
        }
       ],
       "conversionMethod": "pd.DataFrame",
       "ref": "3d482299-ffe6-4ab4-95ad-8020da3cc495",
       "rows": [
        [
         "0",
         "Random Forest",
         "0.6201550387596899",
         "0.6205241786637136",
         "0.6201550387596899",
         "0.6116431068551452"
        ],
        [
         "1",
         "Logistic Regression",
         "0.6434108527131783",
         "0.6469680190610423",
         "0.6434108527131783",
         "0.6437967717037484"
        ],
        [
         "2",
         "Gradient Boosting",
         "0.5038759689922481",
         "0.49712891185759406",
         "0.5038759689922481",
         "0.4961584840654608"
        ]
       ],
       "shape": {
        "columns": 5,
        "rows": 3
       }
      },
      "text/html": [
       "<div>\n",
       "<style scoped>\n",
       "    .dataframe tbody tr th:only-of-type {\n",
       "        vertical-align: middle;\n",
       "    }\n",
       "\n",
       "    .dataframe tbody tr th {\n",
       "        vertical-align: top;\n",
       "    }\n",
       "\n",
       "    .dataframe thead th {\n",
       "        text-align: right;\n",
       "    }\n",
       "</style>\n",
       "<table border=\"1\" class=\"dataframe\">\n",
       "  <thead>\n",
       "    <tr style=\"text-align: right;\">\n",
       "      <th></th>\n",
       "      <th>Model</th>\n",
       "      <th>Accuracy</th>\n",
       "      <th>Precision</th>\n",
       "      <th>Recall</th>\n",
       "      <th>F1 Score</th>\n",
       "    </tr>\n",
       "  </thead>\n",
       "  <tbody>\n",
       "    <tr>\n",
       "      <th>0</th>\n",
       "      <td>Random Forest</td>\n",
       "      <td>0.620155</td>\n",
       "      <td>0.620524</td>\n",
       "      <td>0.620155</td>\n",
       "      <td>0.611643</td>\n",
       "    </tr>\n",
       "    <tr>\n",
       "      <th>1</th>\n",
       "      <td>Logistic Regression</td>\n",
       "      <td>0.643411</td>\n",
       "      <td>0.646968</td>\n",
       "      <td>0.643411</td>\n",
       "      <td>0.643797</td>\n",
       "    </tr>\n",
       "    <tr>\n",
       "      <th>2</th>\n",
       "      <td>Gradient Boosting</td>\n",
       "      <td>0.503876</td>\n",
       "      <td>0.497129</td>\n",
       "      <td>0.503876</td>\n",
       "      <td>0.496158</td>\n",
       "    </tr>\n",
       "  </tbody>\n",
       "</table>\n",
       "</div>"
      ],
      "text/plain": [
       "                 Model  Accuracy  Precision    Recall  F1 Score\n",
       "0        Random Forest  0.620155   0.620524  0.620155  0.611643\n",
       "1  Logistic Regression  0.643411   0.646968  0.643411  0.643797\n",
       "2    Gradient Boosting  0.503876   0.497129  0.503876  0.496158"
      ]
     },
     "execution_count": 24,
     "metadata": {},
     "output_type": "execute_result"
    }
   ],
   "source": [
    "max_lag = 5\n",
    "base_features = ['sentiment_score_finbert', 'sentiment_numeric_finbert',\n",
    "                 'Count_-1 Ratio', 'Count_0 Ratio', 'Count_1 Ratio']\n",
    "\n",
    "# Add lagged features\n",
    "for lag in range(1, max_lag + 1):\n",
    "    for col in base_features:\n",
    "        df_ml[f'{col}_lag{lag}'] = df_ml[col].shift(lag)\n",
    "\n",
    "# Drop rows with NaN from lagging\n",
    "df_ml.dropna(inplace=True)\n",
    "\n",
    "# Define full feature set\n",
    "features = base_features.copy()\n",
    "for lag in range(1, max_lag + 1):\n",
    "    features.extend([f'{col}_lag{lag}' for col in base_features])\n",
    "\n",
    "# Prepare X and y\n",
    "X = df_ml[features]\n",
    "y = df_ml['Price_Label']\n",
    "\n",
    "# Train-test split\n",
    "X_train, X_test, y_train, y_test = train_test_split(X, y, test_size=0.2, random_state=42)\n",
    "\n",
    "# Models to evaluate\n",
    "models = {\n",
    "    \"Random Forest\": RandomForestClassifier(random_state=42, class_weight=\"balanced\"),\n",
    "    \"Logistic Regression\": LogisticRegression(max_iter=1000, class_weight=\"balanced\", random_state=42),\n",
    "    \"Gradient Boosting\": GradientBoostingClassifier(random_state=42)\n",
    "}\n",
    "\n",
    "# Evaluation loop\n",
    "results = []\n",
    "for name, model in models.items():\n",
    "    model.fit(X_train, y_train)\n",
    "    y_pred = model.predict(X_test)\n",
    "\n",
    "    results.append({\n",
    "        \"Model\": name,\n",
    "        \"Accuracy\": accuracy_score(y_test, y_pred),\n",
    "        \"Precision\": precision_score(y_test, y_pred, average='weighted', zero_division=0),\n",
    "        \"Recall\": recall_score(y_test, y_pred, average='weighted'),\n",
    "        \"F1 Score\": f1_score(y_test, y_pred, average='weighted')\n",
    "    })\n",
    "\n",
    "# Display results\n",
    "results_df = pd.DataFrame(results)\n",
    "results_df"
   ]
  },
  {
   "cell_type": "markdown",
   "metadata": {},
   "source": [
    "### ML Models with lagged Data and Fundamental Indicators"
   ]
  },
  {
   "cell_type": "code",
   "execution_count": 32,
   "metadata": {},
   "outputs": [
    {
     "data": {
      "application/vnd.microsoft.datawrangler.viewer.v0+json": {
       "columns": [
        {
         "name": "index",
         "rawType": "int64",
         "type": "integer"
        },
        {
         "name": "Model",
         "rawType": "object",
         "type": "string"
        },
        {
         "name": "Accuracy",
         "rawType": "float64",
         "type": "float"
        },
        {
         "name": "Precision",
         "rawType": "float64",
         "type": "float"
        },
        {
         "name": "Recall",
         "rawType": "float64",
         "type": "float"
        },
        {
         "name": "F1 Score",
         "rawType": "float64",
         "type": "float"
        }
       ],
       "conversionMethod": "pd.DataFrame",
       "ref": "6f5b65e9-69f6-44ab-8643-f4db9498a57e",
       "rows": [
        [
         "0",
         "Random Forest",
         "0.5327868852459017",
         "0.524957965531736",
         "0.5327868852459017",
         "0.5245524778594309"
        ],
        [
         "1",
         "Logistic Regression",
         "0.6475409836065574",
         "0.6558878603730921",
         "0.6475409836065574",
         "0.6481807411489185"
        ],
        [
         "2",
         "Gradient Boosting",
         "0.5573770491803278",
         "0.5534998189709299",
         "0.5573770491803278",
         "0.5540938569627094"
        ]
       ],
       "shape": {
        "columns": 5,
        "rows": 3
       }
      },
      "text/html": [
       "<div>\n",
       "<style scoped>\n",
       "    .dataframe tbody tr th:only-of-type {\n",
       "        vertical-align: middle;\n",
       "    }\n",
       "\n",
       "    .dataframe tbody tr th {\n",
       "        vertical-align: top;\n",
       "    }\n",
       "\n",
       "    .dataframe thead th {\n",
       "        text-align: right;\n",
       "    }\n",
       "</style>\n",
       "<table border=\"1\" class=\"dataframe\">\n",
       "  <thead>\n",
       "    <tr style=\"text-align: right;\">\n",
       "      <th></th>\n",
       "      <th>Model</th>\n",
       "      <th>Accuracy</th>\n",
       "      <th>Precision</th>\n",
       "      <th>Recall</th>\n",
       "      <th>F1 Score</th>\n",
       "    </tr>\n",
       "  </thead>\n",
       "  <tbody>\n",
       "    <tr>\n",
       "      <th>0</th>\n",
       "      <td>Random Forest</td>\n",
       "      <td>0.532787</td>\n",
       "      <td>0.524958</td>\n",
       "      <td>0.532787</td>\n",
       "      <td>0.524552</td>\n",
       "    </tr>\n",
       "    <tr>\n",
       "      <th>1</th>\n",
       "      <td>Logistic Regression</td>\n",
       "      <td>0.647541</td>\n",
       "      <td>0.655888</td>\n",
       "      <td>0.647541</td>\n",
       "      <td>0.648181</td>\n",
       "    </tr>\n",
       "    <tr>\n",
       "      <th>2</th>\n",
       "      <td>Gradient Boosting</td>\n",
       "      <td>0.557377</td>\n",
       "      <td>0.553500</td>\n",
       "      <td>0.557377</td>\n",
       "      <td>0.554094</td>\n",
       "    </tr>\n",
       "  </tbody>\n",
       "</table>\n",
       "</div>"
      ],
      "text/plain": [
       "                 Model  Accuracy  Precision    Recall  F1 Score\n",
       "0        Random Forest  0.532787   0.524958  0.532787  0.524552\n",
       "1  Logistic Regression  0.647541   0.655888  0.647541  0.648181\n",
       "2    Gradient Boosting  0.557377   0.553500  0.557377  0.554094"
      ]
     },
     "execution_count": 32,
     "metadata": {},
     "output_type": "execute_result"
    }
   ],
   "source": [
    "merged_data = df_ml.copy()\n",
    "close_price = merged_data['Close'].shift(1)\n",
    "merged_data['RSI'] = ta.momentum.RSIIndicator(close=close_price, window=14).rsi()\n",
    "merged_data['EMA'] = ta.trend.EMAIndicator(close=close_price, window=14).ema_indicator()\n",
    "macd = ta.trend.MACD(close=close_price)\n",
    "merged_data['MACD'] = macd.macd()\n",
    "merged_data['MACD_Signal'] = macd.macd_signal()\n",
    "bb = ta.volatility.BollingerBands(close=close_price)\n",
    "merged_data['BB_Upper'] = bb.bollinger_hband()\n",
    "merged_data['BB_Lower'] = bb.bollinger_lband()\n",
    "merged_data['SMA'] = ta.trend.SMAIndicator(close=close_price, window=14).sma_indicator()\n",
    "\n",
    "\n",
    "trend_map = {\n",
    "    'RSI_Trend': 'RSI',\n",
    "    'EMA_Trend': 'EMA',\n",
    "    'MACD_Trend': 'MACD',\n",
    "    'BB_Trend': 'BB_Upper',\n",
    "    'SMA_Trend': 'SMA'\n",
    "}\n",
    "for new_col, base_col in trend_map.items():\n",
    "    merged_data[new_col] = merged_data[base_col].diff().apply(lambda x: 1 if x > 0 else (-1 if x < 0 else 0))\n",
    "\n",
    "\n",
    "merged_data.dropna(inplace=True)\n",
    "merged_data.reset_index(drop=True, inplace=True)\n",
    "\n",
    "\n",
    "base_sentiment = ['sentiment_numeric_finbert', 'sentiment_score_finbert',\n",
    "                  'Count_-1 Ratio', 'Count_0 Ratio', 'Count_1 Ratio']\n",
    "lagged_sentiment = [f\"{col}_lag{lag}\" for lag in range(1, 6) for col in base_sentiment]\n",
    "trend_features = list(trend_map.keys())\n",
    "all_features = base_sentiment + lagged_sentiment + trend_features\n",
    "\n",
    "\n",
    "X = merged_data[all_features]\n",
    "y = merged_data['Price_Label']\n",
    "X_train, X_test, y_train, y_test = train_test_split(X, y, test_size=0.2, random_state=42)\n",
    "\n",
    "\n",
    "models = {\n",
    "    \"Random Forest\": RandomForestClassifier(random_state=42, class_weight=\"balanced\"),\n",
    "    \"Logistic Regression\": LogisticRegression(max_iter=1000, class_weight=\"balanced\", random_state=42),\n",
    "    \"Gradient Boosting\": GradientBoostingClassifier(random_state=42)\n",
    "}\n",
    "\n",
    "\n",
    "results = []\n",
    "for name, model in models.items():\n",
    "    model.fit(X_train, y_train)\n",
    "    y_pred = model.predict(X_test)\n",
    "\n",
    "    results.append({\n",
    "        \"Model\": name,\n",
    "        \"Accuracy\": accuracy_score(y_test, y_pred),\n",
    "        \"Precision\": precision_score(y_test, y_pred, average='weighted', zero_division=0),\n",
    "        \"Recall\": recall_score(y_test, y_pred, average='weighted'),\n",
    "        \"F1 Score\": f1_score(y_test, y_pred, average='weighted')\n",
    "    })\n",
    "\n",
    "results_df = pd.DataFrame(results)\n",
    "results_df"
   ]
  },
  {
   "cell_type": "markdown",
   "metadata": {},
   "source": [
    "### ML Models with PCA and RFE, GridSearchCV"
   ]
  },
  {
   "cell_type": "code",
   "execution_count": 53,
   "metadata": {},
   "outputs": [],
   "source": [
    "sentiment_base = ['sentiment_score_finbert', 'sentiment_numeric_finbert']\n",
    "fundamental_base = ['Count_-1 Ratio', 'Count_0 Ratio', 'Count_1 Ratio']\n",
    "base_features = sentiment_base + fundamental_base\n",
    "max_lag = 5\n",
    "for lag in range(1, max_lag + 1):\n",
    "    for col in base_features:\n",
    "        merged_data[f\"{col}_lag{lag}\"] = merged_data[col].shift(lag)\n",
    "\n",
    "# Drop missing\n",
    "merged_data.dropna(inplace=True)\n",
    "merged_data.reset_index(drop=True, inplace=True)\n",
    "\n",
    "# Feature list\n",
    "trend_features = list(trend_map.keys())\n",
    "lagged_features = [f\"{col}_lag{lag}\" for lag in range(1, max_lag + 1) for col in base_features]\n",
    "all_features = base_features + lagged_features + trend_features\n",
    "X = merged_data[all_features]\n",
    "y = merged_data['Price_Label']\n",
    "\n",
    "# Feature transformations\n",
    "scaler = StandardScaler()\n",
    "X_scaled = scaler.fit_transform(X)\n",
    "\n",
    "pca = PCA(n_components=10)\n",
    "X_pca = pca.fit_transform(X_scaled)\n",
    "\n",
    "rfe = RFE(estimator=LogisticRegression(max_iter=1000), n_features_to_select=10)\n",
    "X_rfe = rfe.fit_transform(X_scaled, y)\n",
    "\n",
    "# Splits\n",
    "X_train, X_test, y_train, y_test = train_test_split(X_scaled, y, test_size=0.2, random_state=42)\n",
    "X_train_pca, X_test_pca, y_train_pca, y_test_pca = train_test_split(X_pca, y, test_size=0.2, random_state=42)\n",
    "X_train_rfe, X_test_rfe, y_train_rfe, y_test_rfe = train_test_split(X_rfe, y, test_size=0.2, random_state=42)\n",
    "\n",
    "# Parameter grids\n",
    "param_grid_lr = {\n",
    "    'C': [0.01, 0.1, 1, 10],\n",
    "    'penalty': ['l1'],\n",
    "    'solver': ['liblinear', 'saga']\n",
    "}\n",
    "param_grid_rf = {\n",
    "    'n_estimators': [50, 100],\n",
    "    'max_depth': [10, None],\n",
    "    'min_samples_split': [2, 5],\n",
    "    'min_samples_leaf': [1, 2]\n",
    "}\n",
    "param_grid_gb = {\n",
    "    'n_estimators': [50, 100],\n",
    "    'learning_rate': [0.01, 0.1],\n",
    "    'max_depth': [3, 5],\n",
    "    'subsample': [0.8, 1.0]\n",
    "}\n",
    "\n",
    "# Models and datasets\n",
    "model_configs = [\n",
    "    (\"Logistic Regression\", LogisticRegression(max_iter=1000, class_weight=\"balanced\"), param_grid_lr),\n",
    "    (\"Random Forest\", RandomForestClassifier(random_state=42, class_weight=\"balanced\"), param_grid_rf),\n",
    "    (\"Gradient Boosting\", GradientBoostingClassifier(random_state=42), param_grid_gb)\n",
    "]\n",
    "datasets = [\n",
    "    (\"Raw\", X_train, X_test, y_train, y_test),\n",
    "    (\"PCA\", X_train_pca, X_test_pca, y_train_pca, y_test_pca),\n",
    "    (\"RFE\", X_train_rfe, X_test_rfe, y_train_rfe, y_test_rfe)\n",
    "]\n",
    "\n",
    "# Evaluation\n",
    "def evaluate_model(name, variant, model, X_te, y_te):\n",
    "    y_pred = model.predict(X_te)\n",
    "    return {\n",
    "        \"Model\": name,\n",
    "        \"Feature Variant\": variant,\n",
    "        \"Accuracy\": accuracy_score(y_te, y_pred),\n",
    "        \"Precision\": precision_score(y_te, y_pred, average='weighted', zero_division=0),\n",
    "        \"Recall\": recall_score(y_te, y_pred, average='weighted'),\n",
    "        \"F1 Score\": f1_score(y_te, y_pred, average='weighted')\n",
    "    }\n",
    "\n",
    "# GridSearch and collect results\n",
    "results = []\n",
    "for model_name, base_model, param_grid in model_configs:\n",
    "    for variant, X_tr, X_te, y_tr, y_te in datasets:\n",
    "        grid = GridSearchCV(base_model, param_grid, scoring='f1_macro', cv=5)\n",
    "        grid.fit(X_tr, y_tr)\n",
    "        best_model = grid.best_estimator_\n",
    "        results.append(evaluate_model(model_name, variant, best_model, X_te, y_te))\n",
    "\n",
    "# Display all results\n",
    "results_df = pd.DataFrame(results)"
   ]
  },
  {
   "cell_type": "code",
   "execution_count": 55,
   "metadata": {},
   "outputs": [
    {
     "data": {
      "application/vnd.microsoft.datawrangler.viewer.v0+json": {
       "columns": [
        {
         "name": "index",
         "rawType": "int64",
         "type": "integer"
        },
        {
         "name": "Model",
         "rawType": "object",
         "type": "string"
        },
        {
         "name": "Feature Variant",
         "rawType": "object",
         "type": "string"
        },
        {
         "name": "Accuracy",
         "rawType": "float64",
         "type": "float"
        },
        {
         "name": "Precision",
         "rawType": "float64",
         "type": "float"
        },
        {
         "name": "Recall",
         "rawType": "float64",
         "type": "float"
        },
        {
         "name": "F1 Score",
         "rawType": "float64",
         "type": "float"
        }
       ],
       "conversionMethod": "pd.DataFrame",
       "ref": "01c010c0-7bd8-4387-9ca2-9a07e8adacec",
       "rows": [
        [
         "7",
         "Gradient Boosting",
         "PCA",
         "0.6548672566371682",
         "0.6541338344041702",
         "0.6548672566371682",
         "0.6480685489535046"
        ],
        [
         "0",
         "Logistic Regression",
         "Raw",
         "0.6371681415929203",
         "0.6350433289497108",
         "0.6371681415929203",
         "0.6348484301989648"
        ],
        [
         "4",
         "Random Forest",
         "PCA",
         "0.6371681415929203",
         "0.6348711739463329",
         "0.6371681415929203",
         "0.6318880272333702"
        ],
        [
         "2",
         "Logistic Regression",
         "RFE",
         "0.6283185840707964",
         "0.6263444081180853",
         "0.6283185840707964",
         "0.6265407711757269"
        ],
        [
         "1",
         "Logistic Regression",
         "PCA",
         "0.6106194690265486",
         "0.6093947534766119",
         "0.6106194690265486",
         "0.6098159853912067"
        ],
        [
         "8",
         "Gradient Boosting",
         "RFE",
         "0.6194690265486725",
         "0.6293475114042707",
         "0.6194690265486725",
         "0.5896182572550097"
        ],
        [
         "3",
         "Random Forest",
         "Raw",
         "0.584070796460177",
         "0.578515879400835",
         "0.584070796460177",
         "0.5706570538503588"
        ],
        [
         "6",
         "Gradient Boosting",
         "Raw",
         "0.584070796460177",
         "0.5790109800065552",
         "0.584070796460177",
         "0.5640961022131723"
        ],
        [
         "5",
         "Random Forest",
         "RFE",
         "0.5575221238938053",
         "0.5522770705318555",
         "0.5575221238938053",
         "0.5521016985901188"
        ]
       ],
       "shape": {
        "columns": 6,
        "rows": 9
       }
      },
      "text/html": [
       "<div>\n",
       "<style scoped>\n",
       "    .dataframe tbody tr th:only-of-type {\n",
       "        vertical-align: middle;\n",
       "    }\n",
       "\n",
       "    .dataframe tbody tr th {\n",
       "        vertical-align: top;\n",
       "    }\n",
       "\n",
       "    .dataframe thead th {\n",
       "        text-align: right;\n",
       "    }\n",
       "</style>\n",
       "<table border=\"1\" class=\"dataframe\">\n",
       "  <thead>\n",
       "    <tr style=\"text-align: right;\">\n",
       "      <th></th>\n",
       "      <th>Model</th>\n",
       "      <th>Feature Variant</th>\n",
       "      <th>Accuracy</th>\n",
       "      <th>Precision</th>\n",
       "      <th>Recall</th>\n",
       "      <th>F1 Score</th>\n",
       "    </tr>\n",
       "  </thead>\n",
       "  <tbody>\n",
       "    <tr>\n",
       "      <th>7</th>\n",
       "      <td>Gradient Boosting</td>\n",
       "      <td>PCA</td>\n",
       "      <td>0.654867</td>\n",
       "      <td>0.654134</td>\n",
       "      <td>0.654867</td>\n",
       "      <td>0.648069</td>\n",
       "    </tr>\n",
       "    <tr>\n",
       "      <th>0</th>\n",
       "      <td>Logistic Regression</td>\n",
       "      <td>Raw</td>\n",
       "      <td>0.637168</td>\n",
       "      <td>0.635043</td>\n",
       "      <td>0.637168</td>\n",
       "      <td>0.634848</td>\n",
       "    </tr>\n",
       "    <tr>\n",
       "      <th>4</th>\n",
       "      <td>Random Forest</td>\n",
       "      <td>PCA</td>\n",
       "      <td>0.637168</td>\n",
       "      <td>0.634871</td>\n",
       "      <td>0.637168</td>\n",
       "      <td>0.631888</td>\n",
       "    </tr>\n",
       "    <tr>\n",
       "      <th>2</th>\n",
       "      <td>Logistic Regression</td>\n",
       "      <td>RFE</td>\n",
       "      <td>0.628319</td>\n",
       "      <td>0.626344</td>\n",
       "      <td>0.628319</td>\n",
       "      <td>0.626541</td>\n",
       "    </tr>\n",
       "    <tr>\n",
       "      <th>1</th>\n",
       "      <td>Logistic Regression</td>\n",
       "      <td>PCA</td>\n",
       "      <td>0.610619</td>\n",
       "      <td>0.609395</td>\n",
       "      <td>0.610619</td>\n",
       "      <td>0.609816</td>\n",
       "    </tr>\n",
       "    <tr>\n",
       "      <th>8</th>\n",
       "      <td>Gradient Boosting</td>\n",
       "      <td>RFE</td>\n",
       "      <td>0.619469</td>\n",
       "      <td>0.629348</td>\n",
       "      <td>0.619469</td>\n",
       "      <td>0.589618</td>\n",
       "    </tr>\n",
       "    <tr>\n",
       "      <th>3</th>\n",
       "      <td>Random Forest</td>\n",
       "      <td>Raw</td>\n",
       "      <td>0.584071</td>\n",
       "      <td>0.578516</td>\n",
       "      <td>0.584071</td>\n",
       "      <td>0.570657</td>\n",
       "    </tr>\n",
       "    <tr>\n",
       "      <th>6</th>\n",
       "      <td>Gradient Boosting</td>\n",
       "      <td>Raw</td>\n",
       "      <td>0.584071</td>\n",
       "      <td>0.579011</td>\n",
       "      <td>0.584071</td>\n",
       "      <td>0.564096</td>\n",
       "    </tr>\n",
       "    <tr>\n",
       "      <th>5</th>\n",
       "      <td>Random Forest</td>\n",
       "      <td>RFE</td>\n",
       "      <td>0.557522</td>\n",
       "      <td>0.552277</td>\n",
       "      <td>0.557522</td>\n",
       "      <td>0.552102</td>\n",
       "    </tr>\n",
       "  </tbody>\n",
       "</table>\n",
       "</div>"
      ],
      "text/plain": [
       "                 Model Feature Variant  Accuracy  Precision    Recall  \\\n",
       "7    Gradient Boosting             PCA  0.654867   0.654134  0.654867   \n",
       "0  Logistic Regression             Raw  0.637168   0.635043  0.637168   \n",
       "4        Random Forest             PCA  0.637168   0.634871  0.637168   \n",
       "2  Logistic Regression             RFE  0.628319   0.626344  0.628319   \n",
       "1  Logistic Regression             PCA  0.610619   0.609395  0.610619   \n",
       "8    Gradient Boosting             RFE  0.619469   0.629348  0.619469   \n",
       "3        Random Forest             Raw  0.584071   0.578516  0.584071   \n",
       "6    Gradient Boosting             Raw  0.584071   0.579011  0.584071   \n",
       "5        Random Forest             RFE  0.557522   0.552277  0.557522   \n",
       "\n",
       "   F1 Score  \n",
       "7  0.648069  \n",
       "0  0.634848  \n",
       "4  0.631888  \n",
       "2  0.626541  \n",
       "1  0.609816  \n",
       "8  0.589618  \n",
       "3  0.570657  \n",
       "6  0.564096  \n",
       "5  0.552102  "
      ]
     },
     "execution_count": 55,
     "metadata": {},
     "output_type": "execute_result"
    }
   ],
   "source": [
    "results_df.sort_values(by='F1 Score',ascending=False)"
   ]
  },
  {
   "cell_type": "code",
   "execution_count": 56,
   "metadata": {},
   "outputs": [],
   "source": [
    "best_row = results_df.sort_values(by='F1 Score', ascending=False).iloc[0]\n",
    "best_model_name = best_row['Model']\n",
    "best_feature_variant = best_row['Feature Variant']\n",
    "\n",
    "variant_to_data = {\n",
    "    \"Raw\": (X_train, X_test, y_train, y_test, X.columns),\n",
    "    \"PCA\": (X_train_pca, X_test_pca, y_train_pca, y_test_pca, [f'PC{i+1}' for i in range(X_pca.shape[1])]),\n",
    "    \"RFE\": (X_train_rfe, X_test_rfe, y_train_rfe, y_test_rfe, list(X.columns[rfe.get_support()]))\n",
    "}\n",
    "X_tr_best, X_te_best, y_tr_best, y_te_best, feature_names = variant_to_data[best_feature_variant]\n",
    "\n",
    "grid = None\n",
    "if best_model_name == \"Logistic Regression\":\n",
    "    base_model = LogisticRegression(max_iter=1000, class_weight=\"balanced\")\n",
    "    param_grid = param_grid_lr\n",
    "elif best_model_name == \"Random Forest\":\n",
    "    base_model = RandomForestClassifier(random_state=42, class_weight=\"balanced\")\n",
    "    param_grid = param_grid_rf\n",
    "elif best_model_name == \"Gradient Boosting\":\n",
    "    base_model = GradientBoostingClassifier(random_state=42)\n",
    "    param_grid = param_grid_gb\n",
    "\n",
    "# Refit best model\n",
    "grid = GridSearchCV(base_model, param_grid, scoring='f1_macro', cv=5)\n",
    "grid.fit(X_tr_best, y_tr_best)\n",
    "best_model = grid.best_estimator_\n",
    "\n",
    "if best_model_name == \"Logistic Regression\":\n",
    "    importance = best_model.coef_[0]\n",
    "elif best_model_name in [\"Random Forest\", \"Gradient Boosting\"]:\n",
    "    importance = best_model.feature_importances_\n",
    "\n",
    "importance_df = pd.DataFrame({\n",
    "    \"Feature\": feature_names,\n",
    "    \"Importance\": importance\n",
    "}).sort_values(by=\"Importance\", ascending=False).head(10)\n",
    "pca_components = pca.components_  \n",
    "\n",
    "\n",
    "original_feature_names = X.columns\n",
    "\n",
    "top_pc_names = importance_df['Feature'].values\n",
    "top_pc_indices = [int(pc[2:]) - 1 for pc in top_pc_names]  \n",
    "\n",
    "contributions = []\n",
    "\n",
    "for pc_idx in top_pc_indices:\n",
    "    pc_name = f\"PC{pc_idx+1}\"\n",
    "    component_weights = pca_components[pc_idx]\n",
    "    pc_contrib_df = pd.DataFrame({\n",
    "        'Original Feature': original_feature_names,\n",
    "        'Contribution Weight': component_weights,\n",
    "        'Principal Component': pc_name\n",
    "    }).sort_values(by='Contribution Weight', key=abs, ascending=False).head(10)\n",
    "    contributions.append(pc_contrib_df)\n",
    "\n",
    "top_pc_contributions_df = pd.concat(contributions, ignore_index=True)"
   ]
  },
  {
   "cell_type": "code",
   "execution_count": 59,
   "metadata": {},
   "outputs": [
    {
     "data": {
      "application/vnd.microsoft.datawrangler.viewer.v0+json": {
       "columns": [
        {
         "name": "index",
         "rawType": "int64",
         "type": "integer"
        },
        {
         "name": "Original Feature",
         "rawType": "object",
         "type": "string"
        },
        {
         "name": "Contribution Weight",
         "rawType": "float64",
         "type": "float"
        },
        {
         "name": "Principal Component",
         "rawType": "object",
         "type": "string"
        }
       ],
       "conversionMethod": "pd.DataFrame",
       "ref": "356c63f4-e4d6-4b69-aa1c-2838f32d081a",
       "rows": [
        [
         "0",
         "sentiment_score_finbert",
         "0.34293086719443866",
         "PC7"
        ],
        [
         "1",
         "sentiment_numeric_finbert",
         "0.3419685226767649",
         "PC7"
        ]
       ],
       "shape": {
        "columns": 3,
        "rows": 2
       }
      },
      "text/html": [
       "<div>\n",
       "<style scoped>\n",
       "    .dataframe tbody tr th:only-of-type {\n",
       "        vertical-align: middle;\n",
       "    }\n",
       "\n",
       "    .dataframe tbody tr th {\n",
       "        vertical-align: top;\n",
       "    }\n",
       "\n",
       "    .dataframe thead th {\n",
       "        text-align: right;\n",
       "    }\n",
       "</style>\n",
       "<table border=\"1\" class=\"dataframe\">\n",
       "  <thead>\n",
       "    <tr style=\"text-align: right;\">\n",
       "      <th></th>\n",
       "      <th>Original Feature</th>\n",
       "      <th>Contribution Weight</th>\n",
       "      <th>Principal Component</th>\n",
       "    </tr>\n",
       "  </thead>\n",
       "  <tbody>\n",
       "    <tr>\n",
       "      <th>0</th>\n",
       "      <td>sentiment_score_finbert</td>\n",
       "      <td>0.342931</td>\n",
       "      <td>PC7</td>\n",
       "    </tr>\n",
       "    <tr>\n",
       "      <th>1</th>\n",
       "      <td>sentiment_numeric_finbert</td>\n",
       "      <td>0.341969</td>\n",
       "      <td>PC7</td>\n",
       "    </tr>\n",
       "  </tbody>\n",
       "</table>\n",
       "</div>"
      ],
      "text/plain": [
       "            Original Feature  Contribution Weight Principal Component\n",
       "0    sentiment_score_finbert             0.342931                 PC7\n",
       "1  sentiment_numeric_finbert             0.341969                 PC7"
      ]
     },
     "execution_count": 59,
     "metadata": {},
     "output_type": "execute_result"
    }
   ],
   "source": [
    "top_pc_contributions_df.head(2)"
   ]
  },
  {
   "cell_type": "code",
   "execution_count": null,
   "metadata": {},
   "outputs": [],
   "source": []
  }
 ],
 "metadata": {
  "kernelspec": {
   "display_name": "base",
   "language": "python",
   "name": "python3"
  },
  "language_info": {
   "codemirror_mode": {
    "name": "ipython",
    "version": 3
   },
   "file_extension": ".py",
   "mimetype": "text/x-python",
   "name": "python",
   "nbconvert_exporter": "python",
   "pygments_lexer": "ipython3",
   "version": "3.12.4"
  }
 },
 "nbformat": 4,
 "nbformat_minor": 2
}
